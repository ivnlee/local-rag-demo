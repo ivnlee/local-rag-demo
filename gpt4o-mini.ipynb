{
 "cells": [
  {
   "cell_type": "markdown",
   "metadata": {},
   "source": [
    "## Modelo: **GPT-4o-mini**\n",
    "---"
   ]
  },
  {
   "cell_type": "code",
   "execution_count": 12,
   "metadata": {},
   "outputs": [],
   "source": [
    "import os\n",
    "from dotenv import load_dotenv\n",
    "\n",
    "load_dotenv()\n",
    "\n",
    "OPENAI_API_KEY = os.getenv(\"OPENAI_API_KEY\")"
   ]
  },
  {
   "cell_type": "code",
   "execution_count": 13,
   "metadata": {},
   "outputs": [],
   "source": [
    "from langchain_openai.chat_models import ChatOpenAI\n",
    "from langchain_openai import OpenAIEmbeddings\n",
    "\n",
    "MODEL = \"gpt-4o-mini\"\n",
    "\n",
    "model = ChatOpenAI(openai_api_key=OPENAI_API_KEY, model=MODEL)\n",
    "embeddings = OpenAIEmbeddings()  #(openai_api_key=OPENAI_API_KEY, model=\"text-embedding-3-small\")"
   ]
  },
  {
   "cell_type": "code",
   "execution_count": 14,
   "metadata": {},
   "outputs": [],
   "source": [
    "from langchain_core.output_parsers import StrOutputParser\n",
    "\n",
    "parser = StrOutputParser()\n",
    "\n",
    "#chain = model | parser \n",
    "#chain.invoke(\"Tell me a joke\")"
   ]
  },
  {
   "cell_type": "markdown",
   "metadata": {},
   "source": [
    "### Prompt template"
   ]
  },
  {
   "cell_type": "code",
   "execution_count": 15,
   "metadata": {},
   "outputs": [],
   "source": [
    "from langchain.prompts import PromptTemplate\n",
    "\n",
    "template = \"\"\"\n",
    "Eres un representatne de servicio al cliente, responde la pregunta basado en el contexto de abajo. \n",
    "Si no puedes responder la pregunta, responde \"No lo se\"\n",
    "\n",
    "Context: {context}\n",
    "\n",
    "Question: {question}\n",
    "\"\"\"\n",
    "\n",
    "prompt = PromptTemplate.from_template(template)"
   ]
  },
  {
   "cell_type": "code",
   "execution_count": 16,
   "metadata": {},
   "outputs": [],
   "source": [
    "from langchain_community.document_loaders import UnstructuredMarkdownLoader\n",
    "\n",
    "loader = UnstructuredMarkdownLoader(\"docs/manual-lpcr/manual-lpcr.md\")\n",
    "pages = loader.load_and_split()"
   ]
  },
  {
   "cell_type": "code",
   "execution_count": 17,
   "metadata": {},
   "outputs": [],
   "source": [
    "from langchain_community.vectorstores import DocArrayInMemorySearch\n",
    "\n",
    "vectorstore = DocArrayInMemorySearch.from_documents(\n",
    "    pages, \n",
    "    embedding=embeddings\n",
    "    )\n",
    "\n",
    "# Instantiate a retriever\n",
    "retriever = vectorstore.as_retriever()"
   ]
  },
  {
   "cell_type": "code",
   "execution_count": 18,
   "metadata": {},
   "outputs": [],
   "source": [
    "from langchain_core.runnables import RunnablePassthrough\n",
    "\n",
    "md_chain = (\n",
    "    {\n",
    "        \"context\": retriever,\n",
    "        \"question\": RunnablePassthrough()\n",
    "}\n",
    "| prompt\n",
    "| model\n",
    "| parser\n",
    ")"
   ]
  },
  {
   "cell_type": "code",
   "execution_count": 19,
   "metadata": {},
   "outputs": [
    {
     "name": "stdout",
     "output_type": "stream",
     "text": [
      "Como peso un producto?\n",
      "Para pesar un producto, sigue estos pasos:\n",
      "\n",
      "1. Enciende la báscula presionando la tecla ON. Verás \"------\" en el visor/pantalla por unos segundos y luego mostrará ceros. En este momento, la báscula está lista para pesar.\n",
      "2. Coloca el producto que deseas pesar en el plato de la báscula.\n",
      "3. Observa el peso en el indicador de PESO. El indicador de CERO desaparecerá y mostrará el peso del objeto colocado.\n",
      "\n",
      "¡Y eso es todo! Así puedes pesar un producto.\n",
      "\n",
      "Como se introduce el precio por kilogramo?\n",
      "El precio por kilogramo del producto se introduce presionando los números del teclado para indicar el valor deseado. Este valor aparecerá en el indicador de PRECIO y el valor a pagar se calculará automáticamente mostrándose en el indicador de TOTAL.\n",
      "\n",
      "Como puedo borrar la venta total?\n",
      "Para borrar la Venta Total (hacer 0 la Venta Total), primero debes desplegar la Venta Total y, una vez que se muestre el total, presionar la secuencia de teclas NC, PUNTO (.).\n",
      "\n"
     ]
    }
   ],
   "source": [
    "questions = [\n",
    "    \"Como peso un producto?\",\n",
    "    \"Como se introduce el precio por kilogramo?\",\n",
    "    \"Como puedo borrar la venta total?\",\n",
    "]\n",
    "\n",
    "for question in questions:\n",
    "    print(question)\n",
    "    print(md_chain.invoke(question))\n",
    "    print()"
   ]
  }
 ],
 "metadata": {
  "kernelspec": {
   "display_name": ".venv",
   "language": "python",
   "name": "python3"
  },
  "language_info": {
   "codemirror_mode": {
    "name": "ipython",
    "version": 3
   },
   "file_extension": ".py",
   "mimetype": "text/x-python",
   "name": "python",
   "nbconvert_exporter": "python",
   "pygments_lexer": "ipython3",
   "version": "3.10.1"
  }
 },
 "nbformat": 4,
 "nbformat_minor": 2
}
