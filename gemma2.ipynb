{
 "cells": [
  {
   "cell_type": "markdown",
   "metadata": {},
   "source": [
    "## Modelo: **Gemma 2** (2B)\n",
    "---"
   ]
  },
  {
   "cell_type": "code",
   "execution_count": 1,
   "metadata": {},
   "outputs": [],
   "source": [
    "from langchain_community.llms import Ollama \n",
    "from langchain_community.embeddings import OllamaEmbeddings\n",
    "\n",
    "MODEL = \"gemma2:2b\"\n",
    "\n",
    "model = Ollama(model=MODEL)\n",
    "embeddings = OllamaEmbeddings(model=MODEL)"
   ]
  },
  {
   "cell_type": "markdown",
   "metadata": {},
   "source": [
    "### Prompt template"
   ]
  },
  {
   "cell_type": "code",
   "execution_count": 2,
   "metadata": {},
   "outputs": [],
   "source": [
    "from langchain.prompts import PromptTemplate\n",
    "\n",
    "template = \"\"\"\n",
    "Eres un representatne de servicio al cliente, responde la pregunta basado en el contexto de abajo. \n",
    "Si no puedes responder la pregunta, responde \"No lo se\"\n",
    "\n",
    "Context: {context}\n",
    "\n",
    "Question: {question}\n",
    "\"\"\"\n",
    "\n",
    "prompt = PromptTemplate.from_template(template)"
   ]
  },
  {
   "cell_type": "markdown",
   "metadata": {},
   "source": [
    "### Extraer texto en *markdown* del archivo PDF con [Marker](https://github.com/VikParuchuri/marker])\n",
    "\n",
    "#### Desde la terminal:\n",
    "\n",
    "- Para convertir un solo archivo:\n",
    "\n",
    "    `marker_single /path/to/file.pdf /path/to/output/folder --batch_multiplier 2 --max_pages 10`\n",
    "\n",
    "- Para convertir multiples archivos:\n",
    "\n",
    "    `marker /path/to/input/folder /path/to/output/folder --workers 4 --max 10 --min_length 10000`\n",
    "---\n",
    "\n",
    "***Nota:*** *Recomendado utilizar GPU (CUDA o MPS) y 16 GB de RAM*"
   ]
  },
  {
   "cell_type": "markdown",
   "metadata": {},
   "source": [
    "### Markdown document loader "
   ]
  },
  {
   "cell_type": "code",
   "execution_count": 3,
   "metadata": {},
   "outputs": [],
   "source": [
    "from langchain_community.document_loaders import UnstructuredMarkdownLoader\n",
    "\n",
    "markdown_path = \"docs/manual-lpcr/manual-lpcr.md\" \n",
    "md_loader = UnstructuredMarkdownLoader(markdown_path)\n",
    "\n",
    "md_pages = md_loader.load_and_split()"
   ]
  },
  {
   "cell_type": "markdown",
   "metadata": {},
   "source": [
    "### Vector Store"
   ]
  },
  {
   "cell_type": "code",
   "execution_count": 4,
   "metadata": {},
   "outputs": [
    {
     "name": "stderr",
     "output_type": "stream",
     "text": [
      "/Users/ivanlee/llama-rag-demo/.venv/lib/python3.10/site-packages/pydantic/_migration.py:283: UserWarning: `pydantic.error_wrappers:ValidationError` has been moved to `pydantic:ValidationError`.\n",
      "  warnings.warn(f'`{import_path}` has been moved to `{new_location}`.')\n"
     ]
    }
   ],
   "source": [
    "from langchain_community.vectorstores import DocArrayInMemorySearch\n",
    "\n",
    "vectorstore = DocArrayInMemorySearch.from_documents(\n",
    "    md_pages, \n",
    "    embedding=embeddings\n",
    "    )\n",
    "\n",
    "# Instantiate a retriever\n",
    "retriever = vectorstore.as_retriever()"
   ]
  },
  {
   "cell_type": "markdown",
   "metadata": {},
   "source": [
    "### Chain"
   ]
  },
  {
   "cell_type": "code",
   "execution_count": 5,
   "metadata": {},
   "outputs": [],
   "source": [
    "from langchain_core.runnables import RunnablePassthrough\n",
    "\n",
    "md_chain = (\n",
    "    {\n",
    "        \"context\": retriever,\n",
    "        \"question\": RunnablePassthrough()\n",
    "}\n",
    "| prompt\n",
    "| model\n",
    ")"
   ]
  },
  {
   "cell_type": "markdown",
   "metadata": {},
   "source": [
    "### Queries"
   ]
  },
  {
   "cell_type": "code",
   "execution_count": 6,
   "metadata": {},
   "outputs": [
    {
     "name": "stdout",
     "output_type": "stream",
     "text": [
      "Pregunta: Como peso un producto?\n",
      "Respuesta: Here's how to weigh a product, based on the provided text:\n",
      "\n",
      "1. **Position the product:** Place the product you want to weigh on the platform of the scale. \n",
      "2. **Turn on the scale:** Ensure the scale is switched on and ready for weighing.\n",
      "3. **Observe the display:** The scale will typically show a \"0\" or a starting weight as soon as you place an item on it. Then, the digital display will update with the correct weight.  \n",
      "\n",
      "**Important Notes:** \n",
      "\n",
      "* **Cleanliness:** Make sure to clean any spills or dirt from the platform before placing your product for accurate measurements.\n",
      "* **Stability:** Ensure the product is positioned in a stable manner to avoid any fluctuations during the weighing process.\n",
      "\n",
      "\n",
      "Let me know if you have any other questions! \n",
      "\n",
      "\n",
      "Pregunta: Como se introduce el precio por kilogramo?\n",
      "Respuesta: The price per kilogram for the L-PCR-20 is **$999.99** and for the L-PCR-40 is **$999.99**. \n",
      "\n",
      "\n",
      "Pregunta: Como puedo borrar la venta total?\n",
      "Respuesta: The provided text does not contain information on how to clear a total sale.  It primarily focuses on the operation, maintenance and troubleshooting of a scale. \n",
      "\n",
      "\n",
      "To learn about deleting or clearing a total sale in a specific device/software, you need to consult:\n",
      "\n",
      "* **User Manual:** Check if your scale's user manual has instructions on managing sales history or clearing totals.\n",
      "* **Software Application:** If the scale uses software for weighing, refer to the provided app's documentation for its functions and controls, including deletion of total sales. \n",
      "\n",
      "\n",
      "If you can provide more context (like the specific brand and model of the scale), it might help me give a more specific answer. \n",
      "\n",
      "\n"
     ]
    }
   ],
   "source": [
    "questions = [\n",
    "    \"Como peso un producto?\",\n",
    "    \"Como se introduce el precio por kilogramo?\",\n",
    "    \"Como puedo borrar la venta total?\",\n",
    "]\n",
    "\n",
    "for question in questions:\n",
    "    print(f\"Pregunta: {question}\")\n",
    "    print(f\"Respuesta: {md_chain.invoke({'question': question})}\")\n",
    "    print()"
   ]
  }
 ],
 "metadata": {
  "kernelspec": {
   "display_name": ".venv",
   "language": "python",
   "name": "python3"
  },
  "language_info": {
   "codemirror_mode": {
    "name": "ipython",
    "version": 3
   },
   "file_extension": ".py",
   "mimetype": "text/x-python",
   "name": "python",
   "nbconvert_exporter": "python",
   "pygments_lexer": "ipython3",
   "version": "3.10.1"
  }
 },
 "nbformat": 4,
 "nbformat_minor": 2
}
