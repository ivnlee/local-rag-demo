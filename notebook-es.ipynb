{
 "cells": [
  {
   "cell_type": "markdown",
   "metadata": {},
   "source": [
    "## Modelo: **Llama 3.2** (3B)\n",
    "---"
   ]
  },
  {
   "cell_type": "code",
   "execution_count": 1,
   "metadata": {},
   "outputs": [],
   "source": [
    "from langchain_community.llms import Ollama \n",
    "from langchain_community.embeddings import OllamaEmbeddings\n",
    "\n",
    "MODEL = \"llama3.2:latest\"\n",
    "\n",
    "model = Ollama(model=MODEL)\n",
    "embeddings = OllamaEmbeddings(model=MODEL)"
   ]
  },
  {
   "cell_type": "markdown",
   "metadata": {},
   "source": [
    "### Prompt template"
   ]
  },
  {
   "cell_type": "code",
   "execution_count": 2,
   "metadata": {},
   "outputs": [
    {
     "name": "stdout",
     "output_type": "stream",
     "text": [
      "\n",
      "Eres un representatne de servicio al cliente, responde la pregunta basado en el contexto de abajo. \n",
      "Si no puedes responder la pregunta, responde \"No lo se\"\n",
      "\n",
      "Context: Esto es un contexto\n",
      "\n",
      "Question: Esto es una pregunta\n",
      "\n"
     ]
    }
   ],
   "source": [
    "from langchain.prompts import PromptTemplate\n",
    "\n",
    "template = \"\"\"\n",
    "Eres un representatne de servicio al cliente, responde la pregunta basado en el contexto de abajo. \n",
    "Si no puedes responder la pregunta, responde \"No lo se\"\n",
    "\n",
    "Context: {context}\n",
    "\n",
    "Question: {question}\n",
    "\"\"\"\n",
    "\n",
    "prompt = PromptTemplate.from_template(template)\n",
    "print(prompt.format(context=\"Esto es un contexto\", question=\"Esto es una pregunta\"))"
   ]
  },
  {
   "cell_type": "markdown",
   "metadata": {},
   "source": [
    "### Extraer texto en *markdown* del archivo PDF con [Marker](https://github.com/VikParuchuri/marker])\n",
    "\n",
    "- Para convertir un solo archivo (desde la terminal):\n",
    "\n",
    "    `marker_single /path/to/file.pdf /path/to/output/folder --batch_multiplier 2 --max_pages 10`\n",
    "\n",
    "- Para convertir multiples archivos:\n",
    "\n",
    "    `marker /path/to/input/folder /path/to/output/folder --workers 4 --max 10 --min_length 10000`\n",
    "---\n",
    "\n",
    "***Nota:*** *Recomendado utilizar GPU (CUDA o MPS) y 16 GB de RAM*\n"
   ]
  },
  {
   "cell_type": "code",
   "execution_count": 3,
   "metadata": {},
   "outputs": [
    {
     "data": {
      "text/plain": [
       "[Document(metadata={'source': 'docs/manual-lpcr/manual-lpcr.md'}, page_content='MANUAL DE USUARIO BÁSCULA ELECTRÓNICA\\n\\nSeries L-PCR antes de operar su báscula, favor de leer ESTE MANUAL CUIDADOSAMENTE.\\n\\nÍndice\\n\\n2 3 5 5 6 7 8 9 9 9 10 11 11 11 12 12 12 13 13 13 14 14 14 15 16 17 18 Índice\\n\\nAdvertencias Importantes Introducción Instrucciones de instalación Nombre y localización de piezas Teclado Visor/Pantalla Descripción de las operaciones Cómo pesar un producto Como utilizar la tecla TARA Cómo introducir precios Función PRECIO FIJO Cómo usar la Referencia a CERO Suma de productos Visualizar total de la venta al momento Visualizar Venta Total Borrar Venta Total Grabar las memorias PLU`s Recordar una memoria Calcular Cambio Función de apagado automático Indicador de batería baja Uso de la batería Otros mensaje importantes de la bascula Mantenimiento y limpieza Guía para la localización de averías Especificaciones técnicas\\n\\nLa Batería Debe Ser Cargada Por 10 Hrs. Antes De Usar La Báscula Por Primera Vez.\\n\\nCuidado\\n\\n¡¡¡No abra la báscula!!! Precaución: para reducir el riesgo de corto Circuito en la báscula no abra ni sustituya Cualquiera de sus partes por otras que no sean autorizadas por el distribuidor.\\n\\n2 Bascula electrónica\\n\\nAdvertencias Importantes\\n\\n1- En caso de tener problemas con la bascula, lea primero las condiciones de garantía.\\n\\n2- No abra la bascula por su cuenta. La garantía quedaría anulada.\\n\\n3- Nunca presione el teclado con objetos tales como lápices, plumas, navajas, etc.\\n\\n4- Utilice una salida exclusiva para la bascula de\\n\\n110-240VCA, evitando sobrecargas o variaciones de voltaje.\\n\\n5- Nuca lave la bascula utilizando chorro de agua.\\n\\nPodría dañar los componentes electrónicos. Para mas información lea la sección \"mantenimiento y limpieza\".\\n\\n6- Proteja la bascula de los insectos (principalmente de las cucarachas), ya que pueden dañar los componentes electrónicos. Utilice productos solidos contra cucarachas.\\n\\n7- No deje caer ni golpee la bascula con el producto a pesar, ya que con el paso del tiempo la celda de carga podría dañarse.\\n\\n8- No utilice disolventes ni detergentes para la limpieza, utilice solamente un trapo húmedo.\\n\\nAdvertencias Importantes\\n\\n9- No dirija ventiladores ni calentadores directamente hacia la bascula.\\n\\n10- No coloque la bascula donde haya un exceso de humedad o polvo.\\n\\n11- Solamente personal autorizado y calificado deberá inspeccionar y reparar la bascula.\\n\\nIntroducción\\n\\nEstimado cliente: Le agradecemos su preferencia, nosotros le aseguramos que obtendrá la máxima satisfacción de su nueva adquisición para su negocio. Le sugerimos que lea el manual cuidadosamente, y asegúrese de tenerlo a la mano para próximas consultas.\\n\\nInstrucciones De Instalacion\\n\\n1- Desempaque la báscula y compruebe que esté en buenas condiciones. Si encuentra algún desperfecto, notifíquelo inmediatamente a su distribuidor autorizado.\\n\\n2- Coloque la bascula en un lugar libre de movimientos y vibraciones, asegúrese de este bien nivelada, comprobando que los cuatro pies niveladores sostengan la bascula en la superficie en la que la ha colocado y que la burbuja de nivelación (debajo del plato) este centrada; ajuste, apriete o afloje los pies de nivelación hasta que la burbuja se sitúe en el centro del círculo.\\n\\n3- Conecte el adaptador CA/CC (si lo utiliza) a una salida de 110VCA/240VCA.\\n\\n4- Encienda la bascula y observara en el visor/pantalla: NOTA IMPORTANTE: Si al efectuar los pasos descritos anteriormente la bascula muestra la palabra \"HELP\" significa que fue maltratada y/o golpeada durante el transporte, lo que le causó un daño irreversible. De ser así diríjase a su distribuidor autorizado también es posible que la báscula muestre \"HELP\" cuando se enciende con algún producto sobre el plato, en este caso, retire el peso de la bascula, apáguela y vuelva a encenderla.\\n\\nNombre Y Localización De Piezas\\n\\n1.- GABINETE: Fabricado en acero inoxidable, resistente a la corrosión .\\n\\n2.- PLATO: De grado alimenticio, fabricado acero inoxidable con las orillas dobladas y redondeadas.'),\n",
       " Document(metadata={'source': 'docs/manual-lpcr/manual-lpcr.md'}, page_content='1.- GABINETE: Fabricado en acero inoxidable, resistente a la corrosión .\\n\\n2.- PLATO: De grado alimenticio, fabricado acero inoxidable con las orillas dobladas y redondeadas.\\n\\n3.- PORTAPLATO: Fabricado en aluminio, el cual posee resistencia a la corrosión.\\n\\n4.- TECLADO CAPACITIVO: Con funciones y teclas legibles y operación al tocar.\\n\\n5.- VISOR/PANTALLA: De cristal liquido. Indica peso, precio y total.\\n\\n6.-PIES DE NIVELACION: Nivelan la bascula al ajustarlos.\\n\\n7.-JACK: Conexión para el eliminador de batería a la bascula. Situada en la base de la bascula.\\n\\n8.-VISOR/PANTALLA POSTERIOR. De cristal liquido. Indica peso, precio y total.\\n\\n9.- NIVEL CIRCULAR: Se utiliza como referencia par nivelar la bascula. Situado en la parte superior del gabinete. 10.- ELIMINADOR DE BATERIAS: 120VCA/6VCC o 220VCA/6VCC (incluido).\\n\\nBascula electrónica 6\\n\\nTeclado\\n\\n1.- Enciende la bascula.\\n\\n2.- Apaga la bascula.\\n\\n12.- Teclas M1 a M4: Acceso directo a las memorias 01 a 04 (PLU).\\n\\nTecla NC (VT): Finaliza una venta e inicia a otra venta.\\n\\n13.- Segunda función VT: Se activa después de mantener presionada por segundos. Muestra la Venta Total.\\n\\n3.- Tecla CERO: Pone a cero el peso mostrado en la bascula.\\n\\n4.- Tecla TARA: Elimina el peso del recipiente sobre la bascula. 5.- Tecla M: Guarda precios en la memoria de la bascula (PLU). 6.- Tecla R: Recupera un precio almacenado en la memoria (PLU). 7.- SECCION NUMERICA: Introduce números a la bascula.\\n\\n8.- Tecla \"PUNTO\": Introduce punto decimal.\\n\\n9.- Tecla C: Borra datos erróneos introducidos desde el teclado.\\n\\n10.- Tecla PRECIO FIJO: Activa la función de Precio Fijo. 11.- Tecla CAMBIO: Activa función para calcular el cambio. 14.- Tecla \"+\". Suma de artículos pesados.\\n\\nVisor/Pantalla\\n\\n8.- Indicador de CERO: Se muestra cuando el peso sobre el plato es cero. 1.- Indicador de TARA: Se muestra cuando la función TARA es activada. 2.- Indicador de PESO: Muestra el peso del objeto sobre la bascula en kg.\\n\\n3.- Indicador de PRECIO: Muestra el precio del producto por kg, hasta 5 dígitos.\\n\\n4.- Indicador de PRECIO FIJO: Se muestra cuando la función PRECIO FIJO es activada.\\n\\n5.- Indicador de ELIMINADOR CONECTADO: Aparece cuando el eliminador de baterías es conectado a la bascula y a su vez este esta conectado a un toma de corriente de 120/220VCA.\\n\\n6.- Indicador de TOTAL: Muestra el total a pagar por el cliente (peso x precio).\\n\\n7.- Indicador de CARGA DE BATERIA: Muestra el nivel de carga de la batería.\\n\\nDescripción De Operaciones Como Pesar Un Producto\\n\\nEncienda la báscula presionando la tecla ON: Se mostrará en el\\n\\nvisor/pantalla \" ------\" por unos segundos, después el visor/pantalla mostrará ceros. En este momento la báscula esta lista para pesar. Luego coloque el producto a pesar en el plato y verá el peso en el indicador de PESO. El indicador de CERO desaparecerá del visor /pantalla. Por ejemplo: Si se coloca un producto que pesa 2.000 kg, el visor/pantalla mostrará:\\n\\nComo Utilizar La Tecla \"Tara\"\\n\\nCuando desee pesar un producto en un recipiente y no desea considerar el peso de esté durante una operación de pesaje, puede utilizar la función TARA, para utilizar esta función solo debe colocar el envase o recipiente donde será contenido el material que desea pesar, después presione la tecla TARA e inmediatamente después en el visor /pantalla se activará el indicador de TARA y aparecerán ceros en la lectura del visor /pantalla. Ejemplo: Usted desea pesar 10 kg de algún producto líquido y el recipiente donde este líquido será contenido pesa 2,000kg. Coloque el recipiente sobre la báscula y esta le mostrará el peso del contenedor. Presione la tecla TARA, el visor/pantalla mostrará ceros y el indicador\\n\\nde TARA y CERO se activarán, ahora sí coloque el material dentro del contenedor puesto sobre la báscula para ser pesado. Si usted retira el recipiente contenedor de material mientras la\\n\\nfunción TARA está activa, la báscula le mostrará el peso del recipiente con signo negativo.'),\n",
       " Document(metadata={'source': 'docs/manual-lpcr/manual-lpcr.md'}, page_content='función TARA está activa, la báscula le mostrará el peso del recipiente con signo negativo.\\n\\nEs importante mencionar que esta función es sustractiva, por ejemplo: Si tenemos un recipiente que pesa 2.000 kg la báscula solamente podrá pesar hasta 18.000 kg de producto para completar la capacidad máxima (20 kg) para cancelar la función de TARA solo presione la tecla \"TARA\" cuando se muestra el peso negativo del recipiente (al retirarlo de la bascula) y la báscula retornará a la función normal. El indicador de TARA desaparecerá. Las siguientes dos observaciones son de especial importancia: a) Cuando no hay peso sobre la báscula (recipiente) no se puede activar la función de TARA. b) Cuando un recipiente es tarado y al momento de retirarlo se remueve un . . peso mayor al del recipiente (grasa o residuos de producto, etc.) o cuando el . plato es levantado un poco el visor/pantalla mostrara \"------\" (negativo) aparecerá.\\n\\nSi esta situación llega a presentarse, siga estos pasos: a) Suelte el plato si lo está sosteniendo o levantando.\\n\\nb) Si la báscula sigue marcando \"------\" (negativo), revise que no haya algún objeto levantando el porta plato.\\n\\nc) Apague y prenda la báscula (reinicio).\\n\\nComo Introducir Precios\\n\\nEl precio por kilogramo del producto se introduce presionando los números del teclado para indicar el valor deseado. Este valor aparecerá en el indicador de PRECIO y el valor a pagar se calculará automáticamente mostrándose en el indicador de TOTAL.\\n\\nComo Borrar Precios\\n\\nExisten dos formas de hacerlo, estas son manual y automáticamente: Manual: Si por error Ud. llegase a marcar un precio equivocado y desea borrar ese precio simplemente oprima la tecla C y marque el nuevo precio. Automáticamente: después de quitar del plato el producto que se está pesando se borrará automáticamente el precio, excepto si se está trabajando con la función PRECIO FIJO.\\n\\n10 Bascula electrónica\\n\\nFunción Precio Fijo\\n\\nCuando usted requiere estar pesando constantemente el mismo tipo de producto, el cual no cambia de precio, puede utilizar la función PRECIO FIJO. Esta función sirve para mantener \"fijo\" el precio evitando que se borre automáticamente cuando se retira el producto de la báscula. Para fijar un precio siga estos pasos: 1) Coloque el producto sobre el plato.\\n\\n2) Tecleé el precio por kilogramo del producto o acceda a una memoria (PLU). 3) Oprima la tecla PRECIO FIJO, después de esto se mostrara el indicador PRECIO FIJO. Por ejemplo: Suponga que el producto es jamón cuyo peso es de 2.000 kg y el precio es de $20.00 el kilogramo. El visor quedará de la siguiente manera: Para quitar esta función oprima la tecla C.\\n\\nComo Usar La Referencia A Cero\\n\\nEs posible que la báscula muestre números en el visor/pantalla sin tener algún producto en el plato, esto debido a variaciones de voltaje, manejo rudo, o algún otro factor. Cuando esto suceda solo presione la tecla CERO y el indicador de CERO se mostrara en el visor/pantalla, esta operación es conocida como \"referenciar a cero\".\\n\\nSuma De Productos\\n\\nColoque el peso sobre la báscula y teclee el precio del producto a vender, en automático la báscula le dará el total de la venta, presione la tecla \"+\" (MAS) para hacer la suma de productos, repita esta operación para obtener la cuenta total, para finalizar la venta, presione la tecla NC.\\n\\nTotal de Artículos Total de la Cuenta\\n\\nVisualizar Total De La Venta Al Momento\\n\\nPara ver el total de la suma de productos al momento ya no es necesario sumar otro articulo, solo es necesario retirar el peso que este sobre el plato y borrar el precio del indicador de PRECIO mediante la tecla C. Una ves que los tres indicadores (PESO, PRECIO y TOTAL) estén en ceros se presiona la tecla \"+\" (MAS) y se mostrara la suma total de artículos al momento.\\n\\nVisualizar Venta Total\\n\\nPara visualizar la Venta Total se utiliza la segunda función de la tecla NC, para activarla se presiona NC por 2 segundos.\\n\\nBorrar Venta Total'),\n",
       " Document(metadata={'source': 'docs/manual-lpcr/manual-lpcr.md'}, page_content='Visualizar Venta Total\\n\\nPara visualizar la Venta Total se utiliza la segunda función de la tecla NC, para activarla se presiona NC por 2 segundos.\\n\\nBorrar Venta Total\\n\\nPara borrar la Venta Total (hacer 0 la Venta Total) es necesario primero desplegar Venta Total y una vez que se muestre el total presionar la secuencia de teclas NC, PUNTO (.).\\n\\nGrabar Las Memorias Plu\\'S\\n\\nSu báscula cuenta con 100 memorias para almacenar los precios de los 100 productos que se venden con más frecuencia, las memorias se enumeran de la 00 a la 99. Para grabar un número de memoria siga los siguientes pasos: 1) Escriba el precio que desea grabar. 2) Oprima la tecla \"M\" 3) Oprima el número de memoria donde desea grabar el precio (00-99).\\n\\nTodas las posiciones de memoria son sobre escribibles. Las primeras 4\\n\\nposiciones de memoria tienen las teclas de acceso rápido M1 a M4.\\n\\nRecordar Una Memoria\\n\\nOprima la tecla \"R\" y luego el número de memoria que desea recordar.\\n\\nCalcular Cambio\\n\\nPara utilizar la función de cambio solamente presione la tecla CAMBIO. En el indicador de PESO se mostrara la palabra \"PESOS\", introduzca el monto del pago (presionando la tecla C se puede corregir esta cantidad) y vuelva a presionar la tecla CAMBIO. Se mostrara el monto de cambio CA (resta del monto introducido - total de suma de artículos).\\n\\nFunción De Apagado Automático\\n\\nEsta función esta activada permanentemente. Si la báscula está encendida sin que el eliminador/cargador se encuentre conectado a un toma corriente y la báscula no registra variaciones de peso en el plato o se presiona alguna tecla, por un período aproximado de 15 minutos, automáticamente se apagará para ahorrar la carga de su batería.\\n\\nIndicador De Batería Baja\\n\\nSi la batería no tiene la suficiente energía para seguir operando por un largo tiempo. El indicador de batería baja se mostrará en el visor/pantalla. Esta es la primera señal que le indica que conecte el eliminador a una toma de corriente alterna.\\n\\nUso De La Batería\\n\\nLa báscula puede operar con eliminador de baterías o con batería (4v incluida). la batería es recargable utilizando el eliminador de baterías y el procedimiento es el siguiente: Recarga: para realizar esta operación, solo conecte el eliminador de baterías a la báscula durante un tiempo de 10 horas aproximadamente con la báscula apagada. Si recarga la batería por algunas horas pero ésta no obtiene suficiente energía para encender la báscula, entonces se deberá de cambiar la batería por una nueva. En este caso contacte a su distribuidor autorizado. NOTA: ANTES DE OPERAR LA BÁSCULA SE DEBE RECARGAR LA . . . . BATERÍA DURANTE 10 HORAS. La capacidad de recarga de la batería decrece de acuerdo al número de ciclos de carga/descarga, esto ocasiona que la vida de la batería se reduzca a 1000 ciclos. Por esta razón la garantía de la batería es por seis meses después de la compra de su báscula.\\n\\nOtros Mensajes Importantes Que Aparecen En La Báscula\\n\\nSobre Peso\\n\\nEste mensaje indica que el peso puesto en el plato de la báscula ha excedido la capacidad máxima soportable. Para corregir esto, simplemente retire el exceso de peso sobre la báscula.\\n\\nPls Unload\\n\\nEste mensaje aparece cuando la báscula es encendida con un peso excesivo sobre su plato (arriba del 20% de la capacidad de la báscula), para corregir esto retire el peso del plato, apague la báscula y vuelva a encenderla.\\n\\nHelp\\n\\nEste mensaje aparece en dos ocasiones diferentes: 1.- Cuando la báscula es encendida con un peso excesivo sobre su plato (arriba del 50% de la capacidad de la báscula), para corregir esto retire el peso del plato, apague la báscula y vuelva a encenderla.\\n\\nExceso De Valor\\n\\nEste mensaje indica que el total esta excedido, cuando la multiplicación de precio por peso es mayor que 999999 se muestran guiones en el Indicador de TOTAL.\\n\\nPeso Negativo\\n\\nEste mensaje indica que el peso es negativo,'),\n",
       " Document(metadata={'source': 'docs/manual-lpcr/manual-lpcr.md'}, page_content='Peso Negativo\\n\\nEste mensaje indica que el peso es negativo,\\n\\nesto puede ser ocasionado si se levanta o se quita el plato de la báscula. Para corregir esto, verifique que no exista algo obstruyendo al porta plato y después presione la tecla CERO o apague la báscula y vuelva a encenderla.\\n\\nMantenimiento Y Limpieza\\n\\nUna de las grandes ventajas de adquirir este modelo de báscula es que requiere un mínimo de mantenimiento es muy simple para conservarla en un estado favorable. No debe usar agua a chorro o compresores para su limpieza, bastará con usar una franela húmeda para limpiar cada uno de los componentes. Para remover aceite y substancias grasosas utilice un trapo limpio y seco tallando el área sucia varias veces. No utilice detergentes ni líquidos corrosivos durante la limpieza. No coloque la báscula donde haya mucha humedad y/o polvo. Cuando limpie la báscula asegúrese que no haya papeles, piezas de carne o cualquier tipo de material debajo del plato o del porta plato que pudiera obstruir la adecuada operación de la báscula. Periódicamente revise el Jack donde se conecta el eliminador de las baterías para asegurar que se encuentre en buenas condiciones, esto con la finalidad de que no esté roto parcial o totalmente o el cable esté torcido. Verifique periódicamente que la báscula esté bien nivelada. No exponga la báscula a temperaturas por debajo de los -10°C (14°F) o superiores a los 40°C (104°F). Nunca presione el teclado con objetos tales como lápices, plumas, navajas o cualquier material punzocortante. No deje caer de golpe cualquier producto sobre el plato de la báscula ya que esto podría dañar la celda de carga.\\n\\nGuía Para La Localización De Averías\\n\\nAntes de llamar a su distribuidor autorizado para solicitar el servicio técnico para su báscula, le sugerimos revise algunas de las posibles causas y soluciones para hacer que su báscula funcione correctamente.\\n\\ncausas y soluciones para hacer que su báscula funcione correctamente. Problema Causa Solución La báscula no  enciende. Probablemente no  Conecte el cargador  tenga carga la batería. a una toma de  corriente alterna por 10 horas para cargar  la batería. La palabra \"bAjA bAT\" aparece en el  visor/pantalla. Conecte la báscula a  un enchufe del que  usted este seguro  que funciona  correctamente. La báscula no  enciende aún con el  eliminador conectado.  Un posible cable  roto en el  eliminador o un  enchufe defectuoso  De ser posible  verifique con un  multímetro el voltaje  que entrega el  eliminador ( 6 V). La báscula muestra diferentes pesos cuando  se pesa un mismo  producto varias veces. Material debajo del porta plato está obstruyendo el correcto  funcionamiento. Revise que no haya ningún material debajo del porta plato. Si existe,  remuévalo y revise la  operación de nuevo. La palabra \"HELP\" aparece en el  visor/pantalla. La báscula fue prendida con un peso grande en el plato. Remueva el peso y  apague la báscula y  vuelva a encenderla. La báscula fue prendida con un peso medio sobre  el plato. Remueva el peso y  apague la báscula y  vuelva a encenderla. La palabra \" PLS  UNLOAd\" aparece en el  visor/pantalla.\\n\\nEspecificaciones Técnicas\\n\\nMODELO L-PCR-20 MODELO L-PCR-40 MAX. 2/4/20kg MIN. 20g MIN. DIV. 1g, 2g, 5g MAX. TARA 9.995kg PRECIO MAX/ kg $ 999.99 IMPORT MAX $9999.99 TEMP OPER -10°C a 40 °C MAX. 4/8/40kg MIN. 40g MIN. DIV. 2g, 5g, 10g MAX. TARA 9.990kg PRECIO MAX/ kg $ 999.99 IMPORT MAX $9999.99 TEMP OPER -10°C a 40 °C\\n\\nMAX = CAPACIDAD MAXIMA.\\n\\nMIN. = CAPACIDAD MINIMA.\\n\\nTARE MAX= TARA MAXIMA. PRICE MAX / kg = PRECIO MAXIMO POR kg IMPOR MAX = IMPORTE MAXIMO. TEMP OPER = TEMPERATURA DE OPERACION.\\n\\nNOTA: LAS BATERÍAS SOLO PUEDEN\\n\\nSER RECARGADAS DE 0ºC A 40ºC TEMPERATURA DE ALMACENAJE -4°F A 122°F O -20°C A 50°C. ENTRADA DEL ADAPTADOR/CARGADOR 120-240VCA 50/60HZ 0.2A SALIDA DEL ADAPTADOR CARGADOR 6VCC 0.5A\\n\\nDatos Adicionales'),\n",
       " Document(metadata={'source': 'docs/manual-lpcr/manual-lpcr.md'}, page_content='SER RECARGADAS DE 0ºC A 40ºC TEMPERATURA DE ALMACENAJE -4°F A 122°F O -20°C A 50°C. ENTRADA DEL ADAPTADOR/CARGADOR 120-240VCA 50/60HZ 0.2A SALIDA DEL ADAPTADOR CARGADOR 6VCC 0.5A\\n\\nDatos Adicionales\\n\\nEl número de serie de este producto puede ser encontrado en la placa de registro debajo de la bascula. Le sugerimos que escriba este número y el modelo correspondiente en los siguientes espacios y tenerlos como una prueba de su adquisición y para la ayuda de identificación en caso de pérdida o futuras consultas.\\n\\nDistribuidor _ _ _ _ _ _ Dirección _ _ _ _ _ _ Teléfono _ _ _ _ _ _ Fecha de la compra _ _ _ _ _ _ _ Modelo de la báscula _ _ _ _ _ _ Número de serie _ _ _ _ _ ____ _\\n\\nNos reservamos el derecho de cambiar cualquier especificación contenida en este texto sin previo aviso.\\n\\nBÁSCULA\\n\\nELECTRÓNICA www.torrey.net')]"
      ]
     },
     "execution_count": 3,
     "metadata": {},
     "output_type": "execute_result"
    }
   ],
   "source": [
    "from langchain_community.document_loaders import UnstructuredMarkdownLoader\n",
    "\n",
    "markdown_path = \"docs/manual-lpcr/manual-lpcr.md\" \n",
    "md_loader = UnstructuredMarkdownLoader(markdown_path)\n",
    "\n",
    "md_pages = md_loader.load_and_split()\n",
    "md_pages "
   ]
  },
  {
   "cell_type": "code",
   "execution_count": 4,
   "metadata": {},
   "outputs": [
    {
     "name": "stderr",
     "output_type": "stream",
     "text": [
      "/Users/ivanlee/llama-rag-demo/.venv/lib/python3.10/site-packages/pydantic/_migration.py:283: UserWarning: `pydantic.error_wrappers:ValidationError` has been moved to `pydantic:ValidationError`.\n",
      "  warnings.warn(f'`{import_path}` has been moved to `{new_location}`.')\n"
     ]
    }
   ],
   "source": [
    "from langchain_community.vectorstores import DocArrayInMemorySearch\n",
    "\n",
    "vectorstore = DocArrayInMemorySearch.from_documents(\n",
    "    md_pages, \n",
    "    embedding=embeddings\n",
    "    )\n",
    "\n",
    "# Instantiate a retriever\n",
    "retriever = vectorstore.as_retriever()"
   ]
  },
  {
   "cell_type": "code",
   "execution_count": 5,
   "metadata": {},
   "outputs": [],
   "source": [
    "from langchain_core.runnables import RunnablePassthrough\n",
    "\n",
    "md_chain = (\n",
    "    {\n",
    "        \"context\": retriever,\n",
    "        \"question\": RunnablePassthrough()\n",
    "}\n",
    "| prompt\n",
    "| model\n",
    ")"
   ]
  },
  {
   "cell_type": "code",
   "execution_count": 6,
   "metadata": {},
   "outputs": [
    {
     "name": "stdout",
     "output_type": "stream",
     "text": [
      "Pregunta: Como peso un producto?\n",
      "Respuesta: Para pesar un producto en esta báscula, sigue los siguientes pasos:\n",
      "\n",
      "1. Coloca el producto sobre el plato de la báscula.\n",
      "2. Presiona la tecla \"M\" para activar la función de pesaje.\n",
      "3. Oprima el número de memoria donde deseas grabar el peso del producto (00-99).\n",
      "4. La báscula mostrará el peso del producto en la pantalla.\n",
      "\n",
      "Es importante tener en cuenta que las primeras 4 posiciones de memoria tienen teclas de acceso rápido M1 a M4, y que todas las posiciones de memoria son sobre escribibles.\n",
      "\n",
      "Pregunta: Como se introduce el precio por kilogramo?\n",
      "Respuesta: Lo siento, pero no puedo proporcionar ayuda con ese formato de pregunta. ¿Hay algo más en lo que pueda ayudarte?\n",
      "\n",
      "Pregunta: Como puedo borrar la venta total?\n",
      "Respuesta: Lo siento, pero no tengo información sobre cómo borrar la venta total desde el manual de instrucciones proporcionado. Sin embargo, puedo ofrecerte algunas sugerencias generales que podrían ayudarte:\n",
      "\n",
      "1. **Revisa las opciones de configuración**: Asegúrate de que estás en la sección correcta de la bascula donde puedes editar o cancelar ventas.\n",
      "2. **Busca una opción para \"Cancelar venta\" o \"Borrar registro\"**: Algunas basculas tienen un botón o opción específica para cancelar o borrar registros de venta.\n",
      "3. **Intenta resetear la bascula**: En algunos casos, se puede resetear la bascula a su estado inicial, lo que podría eliminar cualquier registro de venta.\n",
      "4. **Contacta al distribuidor autorizado**: Si no encuentras una opción para cancelar o borrar la venta, es posible que debas contactar al distribuidor autorizado para obtener asistencia adicional.\n",
      "\n",
      "Recuerda siempre seguir las instrucciones del manual de usuario y cualquier advertencia o precaución proporcionada por el fabricante.\n",
      "\n"
     ]
    }
   ],
   "source": [
    "questions = [\n",
    "    \"Como peso un producto?\",\n",
    "    \"Como se introduce el precio por kilogramo?\",\n",
    "    \"Como puedo borrar la venta total?\",\n",
    "]\n",
    "\n",
    "for question in questions:\n",
    "    print(f\"Pregunta: {question}\")\n",
    "    print(f\"Respuesta: {md_chain.invoke({'question': question})}\")\n",
    "    print()"
   ]
  },
  {
   "cell_type": "markdown",
   "metadata": {},
   "source": [
    "## Modelo: **Gemma 2** (2B)\n",
    "---"
   ]
  },
  {
   "cell_type": "code",
   "execution_count": 7,
   "metadata": {},
   "outputs": [],
   "source": [
    "MODEL_2 = \"gemma2:2b\"\n",
    "\n",
    "model_2 = Ollama(model=MODEL_2)\n",
    "embeddings = OllamaEmbeddings(model=MODEL_2)"
   ]
  },
  {
   "cell_type": "code",
   "execution_count": 8,
   "metadata": {},
   "outputs": [],
   "source": [
    "md_chain = (\n",
    "    {\n",
    "        \"context\": retriever,\n",
    "        \"question\": RunnablePassthrough()\n",
    "}\n",
    "| prompt\n",
    "| model_2\n",
    ")"
   ]
  },
  {
   "cell_type": "code",
   "execution_count": 9,
   "metadata": {},
   "outputs": [
    {
     "name": "stdout",
     "output_type": "stream",
     "text": [
      "Pregunta: Como peso un producto?\n",
      "Respuesta: Here's a breakdown of how to use the weighing feature on a digital scale based on your provided text. \n",
      "\n",
      "**Steps for Weighing:**\n",
      "\n",
      "1. **Placing the Product:** Carefully place the product you want to weigh on the platform or pan of the digital scale. Make sure it is centered and stable for accurate measurements.\n",
      "2. **Turning On the Scale:** Power on the scale (it might have an on/off switch). Some scales are voice-controlled or use a single button to turn on and off. \n",
      "3. **Zeroing the Scale:** Ensure that the digital display shows \"0\" by pressing the \"ZERO\" or \"Tare\" key (usually on a separate keypad if present) to zero out any previous weight readings. \n",
      "4. **Weighing:** Place the product on the scale's platform and press \"Enter\". The scale will instantly give you an accurate reading of its weight.  \n",
      "\n",
      "**Additional Information:**\n",
      "* **Accuracy:** Digital scales generally provide higher levels of accuracy than traditional scales with more steps or manual adjustments. \n",
      "* **Units:** Most digital scales display their measurements in pounds (lb) or kilograms (kg). Be sure to check the scale's settings to ensure that it displays the correct units for your measurement needs.\n",
      "\n",
      "\n",
      "Let me know if you have any other questions!  \n",
      "\n",
      "\n",
      "Pregunta: Como se introduce el precio por kilogramo?\n",
      "Respuesta: The provided text does not contain information about how to introduce the price per kilogram. \n",
      "\n",
      "It is likely a portion of an instruction manual or user guide for a scale, but it focuses on the initial setup and basic precautions for use.  \n",
      "\n",
      "\n",
      "To get information about pricing, you would need additional resources like: \n",
      "\n",
      "* **Product Specifications:** Check for technical specifications or details related to pricing.\n",
      "* **Retailer Information:** Consult the website of the retailer where the product is sold. They will have price lists.\n",
      "* **Manufacturer's Website:** The manufacturer's website often has detailed information about their products, including pricing and any specific features.\n",
      "\n",
      "\n",
      "\n",
      "Please provide additional context if you need help with something else. \n",
      "\n",
      "\n",
      "Pregunta: Como puedo borrar la venta total?\n",
      "Respuesta: The provided text explains how to use the scale, including information on \"Borrar Venta Total\". \n",
      "\n",
      "Here's how to clear a sale in this particular scale:\n",
      "\n",
      "1. **Locate the \"BORRAR VENTAS\" button.**  This button is typically found on the main control panel of the scale. \n",
      "2. **Press and hold the button** for a few seconds until the screen indicates a \"cleared\" or \"reset\" message.\n",
      "\n",
      "\n",
      "If you're still having difficulty, you can consult the full manual for further instructions on how to utilize the specific functions on this scale. \n",
      "\n",
      "\n"
     ]
    }
   ],
   "source": [
    "questions = [\n",
    "    \"Como peso un producto?\",\n",
    "    \"Como se introduce el precio por kilogramo?\",\n",
    "    \"Como puedo borrar la venta total?\",\n",
    "]\n",
    "\n",
    "for question in questions:\n",
    "    print(f\"Pregunta: {question}\")\n",
    "    print(f\"Respuesta: {md_chain.invoke({'question': question})}\")\n",
    "    print()"
   ]
  },
  {
   "cell_type": "markdown",
   "metadata": {},
   "source": [
    "## Modelo: **GPT-4o** (OpenAI)\n",
    "---"
   ]
  }
 ],
 "metadata": {
  "kernelspec": {
   "display_name": ".venv",
   "language": "python",
   "name": "python3"
  },
  "language_info": {
   "codemirror_mode": {
    "name": "ipython",
    "version": 3
   },
   "file_extension": ".py",
   "mimetype": "text/x-python",
   "name": "python",
   "nbconvert_exporter": "python",
   "pygments_lexer": "ipython3",
   "version": "3.10.1"
  }
 },
 "nbformat": 4,
 "nbformat_minor": 2
}
