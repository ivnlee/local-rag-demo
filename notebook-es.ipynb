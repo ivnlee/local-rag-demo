{
 "cells": [
  {
   "cell_type": "code",
   "execution_count": 1,
   "metadata": {},
   "outputs": [],
   "source": [
    "from langchain_community.llms import Ollama \n",
    "from langchain_community.embeddings import OllamaEmbeddings\n",
    "\n",
    "MODEL = \"llama3.1:latest\"\n",
    "\n",
    "model = Ollama(model=MODEL)\n",
    "embeddings = OllamaEmbeddings()"
   ]
  },
  {
   "cell_type": "code",
   "execution_count": 2,
   "metadata": {},
   "outputs": [
    {
     "data": {
      "text/plain": [
       "[Document(metadata={'source': 'docs/manual-lpcr.pdf', 'page': 0}, page_content='MANUAL DEUSUARIO\\nBÁSCULA ELECTRÓNICA\\nREV0ANTES DE OPERAR SU BÁSCULA, FAVOR DE LEER \\nESTE MANUAL CUIDADOSAMENTE.\\nCODIGO: 13100930\\nSeries L -PCR'),\n",
       " Document(metadata={'source': 'docs/manual-lpcr.pdf', 'page': 1}, page_content='2 Bascula electrónicaÍNDICE\\nÍndice\\nAdvertencias Importantes\\nIntroducción\\nInstrucciones de instalación\\nNombre y localización de piezas    \\nTeclado\\nVisor/Pantalla\\nDescripción de las operaciones\\nCómo pesar un producto\\nComo utilizar la tecla TARA\\nCómo introducir precios     \\nFunción PRECIO FIJO\\nCómo usar la Referencia a CERO  \\nSuma de productos\\nVisualizar total de la venta al momento  \\nVisualizar Venta Total \\nBorrar Venta Total \\nGrabar las memorias PLU`s\\nRecordar una memoria\\nCalcular Cambio \\nFunción de apagado automático\\nIndicador de batería baja \\nUso de la batería\\nOtros mensaje importantes de la bascula\\nMantenimiento y limpieza\\nGuía para la localización de averías \\nEspecificaciones técnicas\\nLa Batería Debe Ser Cargada\\nPor 10 Hrs. Antes De Usar La \\nBáscula Por Primera Vez.IMPORTANTECUIDADO\\n¡¡¡No abra la báscula!!!\\nPrecaución: para reducir el riesgo de  corto\\nCircuito en la báscula no  abra  ni sustituya\\nCualquiera de sus partes por otras que no \\nsean autorizadas por el distribuidor .\\n2\\n3\\n5\\n5\\n6\\n7\\n8\\n9\\n9\\n9\\n10\\n11\\n11\\n11\\n12\\n12\\n12\\n13\\n13\\n13\\n14\\n14\\n14\\n15\\n16\\n17\\n18'),\n",
       " Document(metadata={'source': 'docs/manual-lpcr.pdf', 'page': 2}, page_content='3ADVERTENCIAS IMPORTANTES \\n1-Encasodetenerproblemas conlabascula, lea\\nprimero lascondiciones degarantía .\\n2-Noabralabascula porsucuenta .Lagarantía\\nquedaría anulada .\\n3-Nunca presione elteclado conobjetos talescomo\\nlápices, plumas, navajas, etc.\\n4-Utilice unasalida exclusiva paralabascula de\\n110-240VCA,evitando sobrecargas o\\nvariaciones devoltaje .\\n5-Nucalavelabascula utilizando chorro deagua.\\nPodría dañar loscomponentes electrónicos .Para\\nmasinformación lealasección “mantenimiento\\nylimpieza” .\\n6-Proteja labascula delosinsectos (principalmente\\ndelascucarachas), yaquepueden dañar los\\ncomponentes electrónicos .Utilice productos\\nsolidos contra cucarachas .\\n7-Nodejecaernigolpee labascula conelproducto\\napesar, yaqueconelpasodeltiempo lacelda\\ndecarga podría dañarse .\\n8-Noutilice disolventes nidetergentes paralalimpieza,\\nutilice solamente untrapohúmedo .\\nBáscula Electrónica'),\n",
       " Document(metadata={'source': 'docs/manual-lpcr.pdf', 'page': 3}, page_content='9-Nodirijaventiladores nicalentadores directamente\\nhacialabascula .\\n10-Nocoloque labascula donde hayaunexceso de\\nhumedad opolvo.\\n11-Solamente personal autorizado ycalificado deberá\\ninspeccionar yreparar labascula .\\n4 Bascula electrónicaADVERTENCIAS IMPORTANTES'),\n",
       " Document(metadata={'source': 'docs/manual-lpcr.pdf', 'page': 4}, page_content='Estimado cliente: \\nLeagradecemos supreferencia, nosotros leaseguramos queobtendrá\\nlamáxima satisfacción desunueva adquisición parasunegocio .Le\\nsugerimos queleaelmanual cuidadosamente, yasegúrese detenerlo a\\nlamanoparapróximas consultas .\\nINSTRUCCIONES DE INSTALACIONINTRODUCCIÓN\\n1-Desempaque la báscula y compruebe que esté en buenas\\ncondiciones. Si encuentra algún desperfecto, notifíquelo\\ninmediatamente a su distribuidor autorizado. \\n2-Coloque la bascula en un lugar libre de movimientos y\\nvibraciones, asegúrese de este bien nivelada, \\ncomprobando que los cuatro pies niveladores sostengan \\nla bascula en la superficie en la que la ha colocado y que\\nla burbuja de nivelación (debajo del plato) este centrada;\\najuste, apriete o afloje los pies de nivelación hasta que la\\nburbuja se sitúe en el centro del círculo.\\n3-Conecte el adaptador CA/CC (si lo utiliza) a una salida\\nde 110VCA/240VCA .\\n4-Encienda la bascula y observara en el visor/pantalla:\\nNOTA IMPORTANTE :Sialefectuar lospasos descritos anteriormente labascula\\nmuestra lapalabra “HELP” significa quefuemaltratada y/ogolpeada durante el\\ntransporte, loquelecausó undañoirreversible .Deserasídiríjase asudistribuidor\\nautorizado también esposible quelabáscula muestre “HELP” cuando seenciende\\nconalgúnproducto sobre elplato, enestecaso,retireelpesodelabascula,\\napáguela yvuelva aencenderla .\\n5\\nBáscula Electrónica'),\n",
       " Document(metadata={'source': 'docs/manual-lpcr.pdf', 'page': 5}, page_content='NOMBRE Y LOCALIZACIÓN DE PIEZAS  \\n1\\n2\\n3\\n4\\n 5\\n6\\n8\\n7\\n7\\n91.-GABINETE :Fabricado en\\nacero inoxidable, resistente ala\\ncorrosión .\\n2.-PLATO :Degrado alimenticio,\\nfabricado acero inoxidable con\\nlas orillas dobladas y\\nredondeadas .\\n3.-PORTAPLATO :Fabricado en\\naluminio, elcualposee resistencia\\nalacorrosión .\\n4.-TECLADO CAPACITIVO :Con\\nfunciones yteclas legibles y\\noperación altocar.\\n5.-VISOR/PANTALLA :Decristal\\nliquido.Indica peso, precio y\\ntotal.\\n6.-PIESDENIVELACION :Nivelan\\nlabascula alajustarlos .\\n7.-JACK:Conexión para el\\neliminador debatería ala\\nbascula .Situada enlabasedela\\nbascula .\\n8.-VISOR/PANTALLA POSTERIOR .\\nDecristal liquido.Indica peso,\\nprecio ytotal.\\n9.-NIVEL CIRCULAR :Seutiliza\\ncomo referencia parnivelar la\\nbascula .Situado enlaparte\\nsuperior delgabinete .\\n10.-ELIMINADOR DEBATERIAS :\\n120VCA/6VCCo220VCA/6VCC\\n(incluido) .\\n6\\n10\\nBascula electrónica'),\n",
       " Document(metadata={'source': 'docs/manual-lpcr.pdf', 'page': 6}, page_content='TECLADO\\n1.- Enciende labascula .\\n2.- Apaga labascula .\\n3.- TeclaCERO:Poneaceroelpesomostrado enlabascula .\\n4.- TeclaTARA:Elimina elpesodelrecipiente sobre labascula .\\n5.- TeclaM:Guarda precios enlamemoria delabascula (PLU).\\n6.- TeclaR:Recupera unprecio almacenado enlamemoria (PLU).\\n7.- SECCION NUMERICA :Introduce números alabascula .\\n8.- Tecla“PUNTO” :Introduce punto decimal .\\n9.- TeclaC:Borradatos erróneos introducidos desde elteclado .\\n10.- TeclaPRECIO FIJO:Activa lafunción dePrecio Fijo.\\n11.- TeclaCAMBIO :Activa función paracalcular elcambio .\\n12.- Teclas M1aM4:Acceso directo alasmemorias 01a\\n04(PLU).\\nTeclaNC(VT):Finaliza unaventa einiciaaotraventa.\\n13.- Segunda función VT:Seactiva después de\\nmantener presionada porsegundos .Muestra laVenta Total.\\n14.- Tecla“+”.Sumadeartículos pesados .\\n7Báscula Electrónica'),\n",
       " Document(metadata={'source': 'docs/manual-lpcr.pdf', 'page': 7}, page_content='VISOR/PANTALLA\\n1.-Indicador deTARA:Semuestra cuando lafunción TARAesactivada .\\n2.-Indicador dePESO:Muestra elpesodelobjeto sobrelabascula enkg.\\n3.-Indicador dePRECIO :Muestra elprecio delproducto porkg,hasta 5\\ndígitos .\\n4.-Indicador dePRECIO FIJO:Semuestra cuando lafunción PRECIO FIJOes\\nactivada .\\n5.-Indicador deELIMINADOR CONECTADO :Aparece cuando eleliminador de\\nbaterías esconectado alabascula yasuvezesteestaconectado aun\\ntomadecorriente de120/220VCA.\\n6.-Indicador deTOTAL :Muestra eltotalapagar porelcliente (peso x\\nprecio) .\\n7.-Indicador deCARGA DEBATERIA :Muestra elniveldecarga delabatería .\\n8.-Indicador deCERO:Semuestra cuando elpesosobreelplatoescero.4\\n12 3\\n5\\n6 78\\n8 Bascula electrónica'),\n",
       " Document(metadata={'source': 'docs/manual-lpcr.pdf', 'page': 8}, page_content='DESCRIPCIÓN DE OPERACIONES   \\nCOMO PESAR UN PRODUCTO \\nEncienda labáscula presionando latecla ON:Semostrará enel\\nvisor/pantalla “------”porunossegundos, después elvisor/pantalla\\nmostrará ceros.Enestemomento labáscula estalistaparapesar.Luego\\ncoloque elproducto apesar enelplatoyveráelpesoenelindicador de\\nPESO.Elindicador deCEROdesaparecerá delvisor/pantalla .Porejemplo :Si\\nsecoloca unproducto quepesa2.000kg,elvisor/pantalla mostrará :\\nCOMO UTILIZAR LA TECLA “TARA” \\nCuando desee pesar unproducto enunrecipiente ynodesea\\nconsiderar elpesodeestédurante unaoperación depesaje, puede\\nutilizar lafunción TARA, parautilizar estafunción solodebecolocar el\\nenvase orecipiente donde serácontenido elmaterial quedesea pesar,\\ndespués presione lateclaTARA einmediatamente después enelvisor\\n/pantalla seactivará elindicador deTARA yaparecerán ceros enla\\nlectura delvisor/pantalla .\\nEjemplo :Usted desea pesar 10kgdealgún producto líquido yel\\nrecipiente donde estelíquido serácontenido pesa2,000kg.\\nColoque elrecipiente sobre labáscula yestalemostrará elpesodel\\ncontenedor .\\nPresione lateclaTARA, elvisor/pantalla mostrará cerosyelindicador\\ndeTARAyCEROseactivarán, ahora sícoloque elmaterial dentro del\\ncontenedor puesto sobrelabáscula paraserpesado .\\nSiusted retira elrecipiente contenedor dematerial mientras la\\nfunción TARA estáactiva, labáscula lemostrará elpeso del\\nrecipiente consignonegativo .\\n9\\nBáscula Electrónica'),\n",
       " Document(metadata={'source': 'docs/manual-lpcr.pdf', 'page': 9}, page_content='Esimportante mencionar queestafunción essustractiva, porejemplo :\\nSitenemos unrecipiente quepesa2.000kglabáscula solamente\\npodrá pesar hasta 18.000 kgdeproducto para completar la\\ncapacidad máxima (20kg)paracancelar lafunción deTARA solo\\npresione latecla“TARA” cuando semuestra elpesonegativo del\\nrecipiente (alretirarlo delabascula) ylabáscula retornará ala\\nfunción normal .Elindicador deTARAdesaparecerá .Lassiguientes dos\\nobservaciones sondeespecial importancia :\\na)Cuando nohaypesosobre labáscula (recipiente) nosepuede\\nactivar lafunción deTARA.\\nb)Cuando unrecipiente estarado yalmomento deretirarlo se\\nremueve un..pesomayor aldelrecipiente (grasa oresiduos de\\nproducto, etc.)ocuando el.plato eslevantado unpocoel\\nvisor/pantalla mostrara “------”(negativo) aparecerá .\\nSiestasituación llegaapresentarse, sigaestospasos:\\na)Suelte elplatosiloestásosteniendo olevantando .\\nb)Silabáscula siguemarcando “------”(negativo), revise queno\\nhayaalgúnobjeto levantando elportaplato.\\nc)Apague yprenda labáscula (reinicio) .\\nCOMO INTRODUCIR PRECIOS  \\nElprecio porkilogramo delproducto seintroduce presionando los\\nnúmeros delteclado para indicar elvalor deseado .Estevalor\\naparecerá enelindicador dePRECIO yelvalorapagar secalculará\\nautomáticamente mostrándose enelindicador deTOTAL .\\nExisten dos formas de hacerlo, estas son manual y automáticamente:\\nManual: Si por error Ud. llegase a marcar un precio equivocado y \\ndesea borrar ese precio simplemente oprima la tecla C y marque el \\nnuevo precio.\\nAutomáticamente: después de quitar del plato el producto que se está \\npesando se borrará automáticamente el precio, excepto si se está \\ntrabajando con la función PRECIO FIJO.COMO BORRAR PRECIOS\\n10\\n Bascula electrónica'),\n",
       " Document(metadata={'source': 'docs/manual-lpcr.pdf', 'page': 10}, page_content='COMO USAR LA REFERENCIA A CERO \\nEsposible quelabáscula muestre números enelvisor/pantalla sintener\\nalgún producto enelplato, estodebido avariaciones devoltaje, manejo\\nrudo, oalgún otrofactor .Cuando estosuceda solopresione latecla\\nCERO yelindicador deCERO semostrara enelvisor/pantalla, esta\\noperación esconocida como “referenciar acero”.Cuando usted requiere estar pesando constantemente elmismo tipode\\nproducto, elcualnocambia deprecio, puede utilizar lafunción PRECIO FIJO.\\nEstafunción sirve para mantener “fijo” elprecio evitando queseborre\\nautomáticamente cuando seretira elproducto delabáscula .\\nPara fijar un precio siga estos pasos:\\n1) Coloque el producto sobre el plato.\\n2) Tecleé el precio por kilogramo del producto o acceda a una memoria (PLU).\\n3) Oprima la tecla PRECIO FIJO, después de esto se mostrara el indicador \\nPRECIO FIJO. \\nPor ejemplo:\\nSuponga que el producto es jamón cuyo peso es de 2.000 kg y el precio es de \\n$20.00 el kilogramo. El visor quedará de la siguiente manera: FUNCIÓN PRECIO FIJO\\nPara quitar esta función oprima la tecla C.\\nSUMA DE PRODUCTOS\\nColoque el peso sobre la báscula y teclee el precio del producto a vender, en \\nautomático la báscula le dará el total de la venta, presione la tecla “+” (MAS) \\npara hacer la suma de productos, repita esta operación para obtener la \\ncuenta total, para finalizar la venta, presione la tecla NC.\\nTotal de Artículos\\nTotal de la Cuenta\\n11\\nBáscula Electrónica'),\n",
       " Document(metadata={'source': 'docs/manual-lpcr.pdf', 'page': 11}, page_content='VISUALIZAR TOTAL DE LA VENTA AL MOMENTO \\nParavereltotaldelasuma deproductos almomento yanoesnecesario\\nsumar otroarticulo, soloesnecesario retirar elpesoqueestesobre el\\nplato yborrar elprecio delindicador dePRECIO mediante lateclaC.Una\\nvesquelostresindicadores (PESO, PRECIO yTOTAL) estén enceros se\\npresiona latecla “+”(MAS) ysemostrara lasuma total deartículos al\\nmomento .\\nCuando: Presionar Se muestra:\\nBorrar Venta TotalParavisualizar laVenta Totalseutiliza lasegunda función delatecla\\nNC,paraactivarla sepresiona NCpor2segundos .\\nPresionar por \\n2 segundos\\nVISUALIZAR VENTA TOTAL\\nParaborrar laVenta Total (hacer 0laVenta Total) esnecesario primero\\ndesplegar Venta Total yunavezquesemuestre eltotal presionar la\\nsecuencia deteclas NC,PUNTO (.).\\nDespliega VT Mientras se muestra presionar\\nBorrado Venta Total\\n12\\n Bascula electrónica'),\n",
       " Document(metadata={'source': 'docs/manual-lpcr.pdf', 'page': 12}, page_content='GRABAR LAS MEMORIAS PLU’S  \\nSu báscula cuenta con 100 memorias para almacenar los precios de los 100 \\nproductos que se venden con más frecuencia, las memorias se enumeran de \\nla 00 a la 99.\\nPara grabar un número de memoria siga los siguientes pasos:\\n1) Escriba el precio que desea grabar.\\n2) Oprima la tecla “ M”\\n3) Oprima el número de memoria donde desea grabar el precio (00 -99).\\nTodas las posiciones de memoria son sobre escribibles. Las primeras 4 \\nposiciones de memoria tienen las teclas de acceso rápido M1 a M4. \\nRECORDAR UNA MEMORIA \\nOprima la tecla “R” y luego el número de memoria que desea recordar.\\nCALCULAR CAMBIO\\nParautilizar lafunción decambio solamente presione lateclaCAMBIO .En\\nelindicador dePESO semostrara lapalabra “PESOS”, introduzca el\\nmonto delpago(presionando lateclaCsepuede corregir estacantidad)\\nyvuelva apresionar lateclaCAMBIO .Semostrara elmonto decambio\\nCA(resta delmonto introducido –totaldesumadeartículos) .\\n13Báscula Electrónica'),\n",
       " Document(metadata={'source': 'docs/manual-lpcr.pdf', 'page': 13}, page_content='INDICADOR DE  BATERÍA BAJA\\nSilabatería notienelasuficiente energía paraseguir operando porun\\nlargo tiempo .Elindicador debatería baja semostrará enel\\nvisor/pantalla .Estaeslaprimera señal queleindica queconecte el\\neliminador aunatomadecorriente alterna .FUNCIÓN DE APAGADO AUTOMÁTICO  \\nEstafunción estaactivada permanentemente .Silabáscula está\\nencendida sinqueeleliminador/cargador seencuentre conectado aun\\ntomacorriente ylabáscula noregistra variaciones depesoenel\\nplato osepresiona alguna tecla, porunperíodo aproximado de15\\nminutos, automáticamente seapagará paraahorrar lacarga desu\\nbatería .\\nUSO DE LA BATERÍA \\nLabáscula puede operar coneliminador debaterías oconbatería (4v\\nincluida) .labatería esrecargable utilizando eleliminador debaterías yel\\nprocedimiento eselsiguiente :\\nRecarga :pararealizar estaoperación, soloconecte eleliminador de\\nbaterías\\nalabáscula durante untiempo de10horasaproximadamente conla\\nbáscula apagada .Sirecarga labatería poralgunas horas peroéstano\\nobtiene suficiente energía paraencender labáscula, entonces sedeberá\\ndecambiar labatería porunanueva.Enestecasocontacte asu\\ndistribuidor autorizado .\\nNOTA: ANTES DE OPERAR LA BÁSCULA SE DEBE RECARGAR LA   .  . .   .                   \\nBATERÍA DURANTE 10 HORAS.\\nLa capacidad de recarga de la batería decrece de acuerdo al número de \\nciclos de carga/descarga, esto ocasiona que la vida de la batería se \\nreduzca a 1000 ciclos.\\nPor esta razón la garantía de la batería es por seis meses después de la \\ncompra de su báscula. \\n14 Bascula electrónica'),\n",
       " Document(metadata={'source': 'docs/manual-lpcr.pdf', 'page': 14}, page_content='15OTROS MENSAJES IMPORTANTES QUE\\nAPARECEN EN LA BÁSCULA  \\nEstemensaje indica queelpesopuesto en\\nelplato delabáscula haexcedido la\\ncapacidad máxima soportable .Paracorregir\\nesto,simplemente retire elexceso depeso\\nsobrelabáscula .\\nEstemensaje aparece endosocasiones\\ndiferentes :\\n1.-Cuando labáscula esencendida conun\\npesoexcesivo sobre suplato (arriba del\\n50%delacapacidad delabáscula), para\\ncorregir esto retire elpeso delplato,\\napague labáscula yvuelva aencenderla .SOBRE PESO \\nHELP\\nEXCESO DE VALOR \\nEstemensaje indica queeltotal esta\\nexcedido, cuando lamultiplicación de\\nprecio porpesoesmayor que999999 se\\nmuestran guiones enelIndicador de\\nTOTAL .PLS UNLOAD\\nEstemensaje aparece cuando labáscula es\\nencendida conunpesoexcesivo sobre su\\nplato(arriba del20%delacapacidad dela\\nbáscula), paracorregir estoretire elpeso\\ndelplato, apague labáscula yvuelva a\\nencenderla .\\nBáscula Electrónica'),\n",
       " Document(metadata={'source': 'docs/manual-lpcr.pdf', 'page': 15}, page_content='MANTENIMIENTO Y LIMPIEZA \\nUnadelasgrandes ventajas deadquirir estemodelo debáscula esque\\nrequiere unmínimo demantenimiento esmuysimple paraconservarla\\nenunestado favorable .\\nNodebeusaraguaachorro ocompresores parasulimpieza, bastará\\nconusar unafranela húmeda para limpiar cada unodelos\\ncomponentes .\\nPararemover aceite ysubstancias grasosas utilice untrapo limpio y\\nsecotallando eláreasuciavarias veces.\\nNoutilice detergentes nilíquidos corrosivos durante lalimpieza .\\nNocoloque labáscula donde hayamucha humedad y/opolvo.\\nCuando limpie labáscula asegúrese quenohayapapeles, piezas de\\ncarne ocualquier tipodematerial debajo delplatoodelporta plato\\nquepudiera obstruir laadecuada operación delabáscula .\\nPeriódicamente revise elJackdonde seconecta eleliminador delas\\nbaterías paraasegurar queseencuentre enbuenas condiciones, esto\\nconlafinalidad dequenoestérotoparcial ototalmente oelcable\\nestétorcido .\\nVerifique periódicamente quelabáscula estébiennivelada .\\nNoexponga labáscula atemperaturas pordebajo delos-10°C(14°F)o\\nsuperiores alos40°C(104°F).\\nNunca presione elteclado conobjetos talescomo lápices, plumas,\\nnavajas ocualquier material punzocortante .\\nNodejecaerdegolpecualquier producto sobre elplatodelabáscula\\nyaqueestopodría dañar laceldadecarga.Estemensaje indica queelpesoesnegativo,\\nestopuede serocasionado siselevanta ose\\nquita elplato delabáscula .Paracorregir\\nesto, verifique que noexista algo\\nobstruyendo alporta plato ydespués\\npresione lateclaCEROoapague labáscula y\\nvuelva aencenderla .PESO NEGATIVO\\n16\\n Bascula electrónica'),\n",
       " Document(metadata={'source': 'docs/manual-lpcr.pdf', 'page': 16}, page_content='Problema Causa Solución\\nLa báscula no \\nenciende.\\nLa palabra “bAjA bAT”\\naparece en el \\nvisor/pantalla.Probablemente no \\ntenga carga la batería.Conecte el cargador \\na una toma de \\ncorriente alterna por\\n10 horas para cargar \\nla batería.\\nLabáscula no \\nenciende aún con el \\neliminador conectado. Un posible cable \\nroto en el \\neliminador o un \\nenchufe\\ndefectuoso  Conecte la báscula a \\nun enchufe del que \\nusted este seguro \\nque funciona \\ncorrectamente.\\nDe ser posible \\nverifique con un \\nmultímetro el voltaje \\nque entrega el \\neliminador ( 6 V).\\nLa báscula muestra \\ndiferentes pesos cuando \\nse pesa un mismo \\nproducto varias veces.Material debajo del porta\\nplato está obstruyendo\\nel correcto \\nfuncionamiento.Revise que no haya \\nningún material debajo \\ndel porta plato. Si existe, \\nremuévalo y revise la \\noperación de nuevo.\\nLa palabra “HELP”\\naparece en el \\nvisor/pantalla.La báscula fue prendida\\ncon un peso grande en el\\nplato.Remueva el peso y \\napague la báscula y \\nvuelva a encenderla.\\nLa palabra “ PLS \\nUNLOAd”\\naparece en el \\nvisor/pantalla.La báscula fue prendida\\ncon un peso medio sobre \\nel plato.Remueva el peso y \\napague la báscula y \\nvuelva a encenderla.GUÍA PARA LA LOCALIZACIÓN DE AVERÍAS  \\nAntes dellamar asudistribuidor autorizado parasolicitar elservicio\\ntécnico parasubáscula, lesugerimos revise algunas delasposibles\\ncausas ysoluciones parahacer quesubáscula funcione correctamente .\\n17Báscula Electrónica'),\n",
       " Document(metadata={'source': 'docs/manual-lpcr.pdf', 'page': 17}, page_content='ESPECIFICACIONES TÉCNICAS   \\nMODELO L -PCR-20 MODELO L -PCR-40\\nMAX. 2/4/20kg\\nMIN. 20g\\nMIN. DIV. 1g, 2g, 5g\\nMAX. TARA 9.995kg\\nPRECIO MAX/ kg $ 999.99\\nIMPORT MAX $9999.99\\nTEMP OPER -10°C a 40 °CMAX. 4/8/40kg\\nMIN. 40g\\nMIN. DIV. 2g, 5g, 10g\\nMAX. TARA 9.990kg\\nPRECIO MAX/ kg $ 999.99\\nIMPORT MAX $9999.99\\nTEMP OPER -10°C a 40 °C\\nMAX = CAPACIDAD MAXIMA.\\nMIN. = CAPACIDAD MINIMA.\\nTARE MAX= TARA MAXIMA.\\nPRICE MAX / kg = PRECIO MAXIMO POR kg\\nIMPOR MAX = IMPORTE MAXIMO.\\nTEMP OPER = TEMPERATURA DE OPERACION.\\nNOTA: LAS BATERÍAS SOLO PUEDEN \\nSER RECARGADAS DE 0ºC A 40ºC \\nTEMPERATURA DE ALMACENAJE -4°F A \\n122°F \\nO -20°C A 50 °C.\\nENTRADA DEL ADAPTADOR/CARGADOR \\n120-240VCA  50/60HZ  0.2A\\nSALIDA DEL ADAPTADOR CARGADOR \\n6VCC  0.5A\\n18 Bascula electrónica'),\n",
       " Document(metadata={'source': 'docs/manual-lpcr.pdf', 'page': 18}, page_content='19Elnúmero deseriedeesteproducto puede serencontrado enlaplaca\\nderegistro debajo delabascula .Lesugerimos queescriba estenúmero\\nyelmodelo correspondiente enlossiguientes espacios ytenerlos como\\nunaprueba desuadquisición yparalaayuda deidentificación encaso\\ndepérdida ofuturas consultas .\\nDistribuidor___________________________________________\\nDirección_____________________________________________\\nTeléfono______________________________________________\\nFecha de la compra_____________________________________\\nModelo de la báscula____________________________________\\nNúmero de serie________________________________________\\nNos reservamos el derecho de cambiar cualquier especificación \\ncontenida en este texto sin previo aviso. DATOS ADICIONALESBáscula Electrónica'),\n",
       " Document(metadata={'source': 'docs/manual-lpcr.pdf', 'page': 19}, page_content='BÁSCULA\\nELECTRÓNICA\\nwww.torrey.net')]"
      ]
     },
     "execution_count": 2,
     "metadata": {},
     "output_type": "execute_result"
    }
   ],
   "source": [
    "from langchain_community.document_loaders import PyPDFLoader\n",
    "\n",
    "loader = PyPDFLoader(\"docs/manual-lpcr.pdf\")\n",
    "pages = loader.load_and_split()\n",
    "pages"
   ]
  },
  {
   "cell_type": "code",
   "execution_count": 3,
   "metadata": {},
   "outputs": [
    {
     "name": "stdout",
     "output_type": "stream",
     "text": [
      "\n",
      "Responde la pregunta basado en el contexto de abajo. Si no puedes\n",
      "responder la pregunta, responde \"No lo se\"\n",
      "\n",
      "Context: Esto es un contexto\n",
      "\n",
      "Question: Esto es una pregunta\n",
      "\n"
     ]
    }
   ],
   "source": [
    "from langchain.prompts import PromptTemplate\n",
    "\n",
    "template = \"\"\"\n",
    "Responde la pregunta basado en el contexto de abajo. Si no puedes\n",
    "responder la pregunta, responde \"No lo se\"\n",
    "\n",
    "Context: {context}\n",
    "\n",
    "Question: {question}\n",
    "\"\"\"\n",
    "\n",
    "prompt = PromptTemplate.from_template(template)\n",
    "print(prompt.format(context=\"Esto es un contexto\", question=\"Esto es una pregunta\"))"
   ]
  },
  {
   "cell_type": "code",
   "execution_count": 4,
   "metadata": {},
   "outputs": [
    {
     "name": "stderr",
     "output_type": "stream",
     "text": [
      "/Users/ivanlee/llama-rag-demo/.venv/lib/python3.10/site-packages/pydantic/_migration.py:283: UserWarning: `pydantic.error_wrappers:ValidationError` has been moved to `pydantic:ValidationError`.\n",
      "  warnings.warn(f'`{import_path}` has been moved to `{new_location}`.')\n"
     ]
    }
   ],
   "source": [
    "from langchain_community.vectorstores import DocArrayInMemorySearch\n",
    "\n",
    "vectorstore = DocArrayInMemorySearch.from_documents(\n",
    "    pages, \n",
    "    embedding=embeddings\n",
    "    )\n",
    "\n",
    "# Instantiate a retriever\n",
    "retriever = vectorstore.as_retriever()"
   ]
  },
  {
   "cell_type": "code",
   "execution_count": 5,
   "metadata": {},
   "outputs": [],
   "source": [
    "#from operator import itemgetter\n",
    "\n",
    "#chain = (\n",
    "#    {\n",
    "#        \"context\": itemgetter(\"question\") | retriever,\n",
    "#        \"question\": itemgetter(\"question\")\n",
    "#    } \n",
    "#    | prompt\n",
    "#    | model \n",
    "#)"
   ]
  },
  {
   "cell_type": "code",
   "execution_count": 5,
   "metadata": {},
   "outputs": [],
   "source": [
    "from langchain_core.runnables import RunnablePassthrough\n",
    "\n",
    "chain = (\n",
    "    {\n",
    "        \"context\": retriever,\n",
    "        \"question\": RunnablePassthrough()\n",
    "}\n",
    "| prompt\n",
    "| model\n",
    ")"
   ]
  },
  {
   "cell_type": "code",
   "execution_count": 7,
   "metadata": {},
   "outputs": [
    {
     "name": "stdout",
     "output_type": "stream",
     "text": [
      "Pregunta: Como peso un producto?\n",
      "Respuesta: Según el manual, para pesar un producto, debes seguir los siguientes pasos:\n",
      "\n",
      "1. Enciende la báscula presionando la tecla ON.\n",
      "2. Espera unos segundos hasta que el visor/mantalla muestre \"------\".\n",
      "3. Luego, coloca el producto a pesar en el platillo y vera el peso en el indicador de PESO.\n",
      "\n",
      "Esto se explica en la página 8 del manual, en la sección \"Cómo pesar un producto\".\n",
      "\n",
      "Pregunta: Como se introduce el precio por kilogramo?\n",
      "Respuesta: La respuesta a la pregunta es: \"Se muestra en el indicador de PRECIO\"\n",
      "\n",
      "Pregunta: Como puedo borrar la venta total?\n",
      "Respuesta: Según el manual de instrucciones proporcionado, puedes borrar la venta total en la báscula electrónica pulsando la tecla correspondiente.\n",
      "\n"
     ]
    }
   ],
   "source": [
    "questions = [\n",
    "    \"Como peso un producto?\",\n",
    "    \"Como se introduce el precio por kilogramo?\",\n",
    "    \"Como puedo borrar la venta total?\",\n",
    "]\n",
    "\n",
    "for question in questions:\n",
    "    print(f\"Pregunta: {question}\")\n",
    "    print(f\"Respuesta: {chain.invoke({'question': question})}\")\n",
    "    print()"
   ]
  }
 ],
 "metadata": {
  "kernelspec": {
   "display_name": ".venv",
   "language": "python",
   "name": "python3"
  },
  "language_info": {
   "codemirror_mode": {
    "name": "ipython",
    "version": 3
   },
   "file_extension": ".py",
   "mimetype": "text/x-python",
   "name": "python",
   "nbconvert_exporter": "python",
   "pygments_lexer": "ipython3",
   "version": "3.10.1"
  }
 },
 "nbformat": 4,
 "nbformat_minor": 2
}
