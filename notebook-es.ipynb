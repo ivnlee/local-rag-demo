{
 "cells": [
  {
   "cell_type": "markdown",
   "metadata": {},
   "source": [
    "## Modelo: **Llama 3.1**\n",
    "---"
   ]
  },
  {
   "cell_type": "code",
   "execution_count": 1,
   "metadata": {},
   "outputs": [],
   "source": [
    "from langchain_community.llms import Ollama \n",
    "from langchain_community.embeddings import OllamaEmbeddings\n",
    "\n",
    "MODEL = \"llama3.1:latest\"\n",
    "\n",
    "model = Ollama(model=MODEL)\n",
    "embeddings = OllamaEmbeddings()"
   ]
  },
  {
   "cell_type": "markdown",
   "metadata": {},
   "source": [
    "### Extraer texto del archivo PDF con el módulo `PyPDFLoader` de ***LangChain*** "
   ]
  },
  {
   "cell_type": "code",
   "execution_count": 2,
   "metadata": {},
   "outputs": [
    {
     "data": {
      "text/plain": [
       "[Document(metadata={'source': 'docs/manual-lpcr.pdf', 'page': 0}, page_content='MANUAL DEUSUARIO\\nBÁSCULA ELECTRÓNICA\\nREV0ANTES DE OPERAR SU BÁSCULA, FAVOR DE LEER \\nESTE MANUAL CUIDADOSAMENTE.\\nCODIGO: 13100930\\nSeries L -PCR'),\n",
       " Document(metadata={'source': 'docs/manual-lpcr.pdf', 'page': 1}, page_content='2 Bascula electrónicaÍNDICE\\nÍndice\\nAdvertencias Importantes\\nIntroducción\\nInstrucciones de instalación\\nNombre y localización de piezas    \\nTeclado\\nVisor/Pantalla\\nDescripción de las operaciones\\nCómo pesar un producto\\nComo utilizar la tecla TARA\\nCómo introducir precios     \\nFunción PRECIO FIJO\\nCómo usar la Referencia a CERO  \\nSuma de productos\\nVisualizar total de la venta al momento  \\nVisualizar Venta Total \\nBorrar Venta Total \\nGrabar las memorias PLU`s\\nRecordar una memoria\\nCalcular Cambio \\nFunción de apagado automático\\nIndicador de batería baja \\nUso de la batería\\nOtros mensaje importantes de la bascula\\nMantenimiento y limpieza\\nGuía para la localización de averías \\nEspecificaciones técnicas\\nLa Batería Debe Ser Cargada\\nPor 10 Hrs. Antes De Usar La \\nBáscula Por Primera Vez.IMPORTANTECUIDADO\\n¡¡¡No abra la báscula!!!\\nPrecaución: para reducir el riesgo de  corto\\nCircuito en la báscula no  abra  ni sustituya\\nCualquiera de sus partes por otras que no \\nsean autorizadas por el distribuidor .\\n2\\n3\\n5\\n5\\n6\\n7\\n8\\n9\\n9\\n9\\n10\\n11\\n11\\n11\\n12\\n12\\n12\\n13\\n13\\n13\\n14\\n14\\n14\\n15\\n16\\n17\\n18'),\n",
       " Document(metadata={'source': 'docs/manual-lpcr.pdf', 'page': 2}, page_content='3ADVERTENCIAS IMPORTANTES \\n1-Encasodetenerproblemas conlabascula, lea\\nprimero lascondiciones degarantía .\\n2-Noabralabascula porsucuenta .Lagarantía\\nquedaría anulada .\\n3-Nunca presione elteclado conobjetos talescomo\\nlápices, plumas, navajas, etc.\\n4-Utilice unasalida exclusiva paralabascula de\\n110-240VCA,evitando sobrecargas o\\nvariaciones devoltaje .\\n5-Nucalavelabascula utilizando chorro deagua.\\nPodría dañar loscomponentes electrónicos .Para\\nmasinformación lealasección “mantenimiento\\nylimpieza” .\\n6-Proteja labascula delosinsectos (principalmente\\ndelascucarachas), yaquepueden dañar los\\ncomponentes electrónicos .Utilice productos\\nsolidos contra cucarachas .\\n7-Nodejecaernigolpee labascula conelproducto\\napesar, yaqueconelpasodeltiempo lacelda\\ndecarga podría dañarse .\\n8-Noutilice disolventes nidetergentes paralalimpieza,\\nutilice solamente untrapohúmedo .\\nBáscula Electrónica'),\n",
       " Document(metadata={'source': 'docs/manual-lpcr.pdf', 'page': 3}, page_content='9-Nodirijaventiladores nicalentadores directamente\\nhacialabascula .\\n10-Nocoloque labascula donde hayaunexceso de\\nhumedad opolvo.\\n11-Solamente personal autorizado ycalificado deberá\\ninspeccionar yreparar labascula .\\n4 Bascula electrónicaADVERTENCIAS IMPORTANTES'),\n",
       " Document(metadata={'source': 'docs/manual-lpcr.pdf', 'page': 4}, page_content='Estimado cliente: \\nLeagradecemos supreferencia, nosotros leaseguramos queobtendrá\\nlamáxima satisfacción desunueva adquisición parasunegocio .Le\\nsugerimos queleaelmanual cuidadosamente, yasegúrese detenerlo a\\nlamanoparapróximas consultas .\\nINSTRUCCIONES DE INSTALACIONINTRODUCCIÓN\\n1-Desempaque la báscula y compruebe que esté en buenas\\ncondiciones. Si encuentra algún desperfecto, notifíquelo\\ninmediatamente a su distribuidor autorizado. \\n2-Coloque la bascula en un lugar libre de movimientos y\\nvibraciones, asegúrese de este bien nivelada, \\ncomprobando que los cuatro pies niveladores sostengan \\nla bascula en la superficie en la que la ha colocado y que\\nla burbuja de nivelación (debajo del plato) este centrada;\\najuste, apriete o afloje los pies de nivelación hasta que la\\nburbuja se sitúe en el centro del círculo.\\n3-Conecte el adaptador CA/CC (si lo utiliza) a una salida\\nde 110VCA/240VCA .\\n4-Encienda la bascula y observara en el visor/pantalla:\\nNOTA IMPORTANTE :Sialefectuar lospasos descritos anteriormente labascula\\nmuestra lapalabra “HELP” significa quefuemaltratada y/ogolpeada durante el\\ntransporte, loquelecausó undañoirreversible .Deserasídiríjase asudistribuidor\\nautorizado también esposible quelabáscula muestre “HELP” cuando seenciende\\nconalgúnproducto sobre elplato, enestecaso,retireelpesodelabascula,\\napáguela yvuelva aencenderla .\\n5\\nBáscula Electrónica'),\n",
       " Document(metadata={'source': 'docs/manual-lpcr.pdf', 'page': 5}, page_content='NOMBRE Y LOCALIZACIÓN DE PIEZAS  \\n1\\n2\\n3\\n4\\n 5\\n6\\n8\\n7\\n7\\n91.-GABINETE :Fabricado en\\nacero inoxidable, resistente ala\\ncorrosión .\\n2.-PLATO :Degrado alimenticio,\\nfabricado acero inoxidable con\\nlas orillas dobladas y\\nredondeadas .\\n3.-PORTAPLATO :Fabricado en\\naluminio, elcualposee resistencia\\nalacorrosión .\\n4.-TECLADO CAPACITIVO :Con\\nfunciones yteclas legibles y\\noperación altocar.\\n5.-VISOR/PANTALLA :Decristal\\nliquido.Indica peso, precio y\\ntotal.\\n6.-PIESDENIVELACION :Nivelan\\nlabascula alajustarlos .\\n7.-JACK:Conexión para el\\neliminador debatería ala\\nbascula .Situada enlabasedela\\nbascula .\\n8.-VISOR/PANTALLA POSTERIOR .\\nDecristal liquido.Indica peso,\\nprecio ytotal.\\n9.-NIVEL CIRCULAR :Seutiliza\\ncomo referencia parnivelar la\\nbascula .Situado enlaparte\\nsuperior delgabinete .\\n10.-ELIMINADOR DEBATERIAS :\\n120VCA/6VCCo220VCA/6VCC\\n(incluido) .\\n6\\n10\\nBascula electrónica'),\n",
       " Document(metadata={'source': 'docs/manual-lpcr.pdf', 'page': 6}, page_content='TECLADO\\n1.- Enciende labascula .\\n2.- Apaga labascula .\\n3.- TeclaCERO:Poneaceroelpesomostrado enlabascula .\\n4.- TeclaTARA:Elimina elpesodelrecipiente sobre labascula .\\n5.- TeclaM:Guarda precios enlamemoria delabascula (PLU).\\n6.- TeclaR:Recupera unprecio almacenado enlamemoria (PLU).\\n7.- SECCION NUMERICA :Introduce números alabascula .\\n8.- Tecla“PUNTO” :Introduce punto decimal .\\n9.- TeclaC:Borradatos erróneos introducidos desde elteclado .\\n10.- TeclaPRECIO FIJO:Activa lafunción dePrecio Fijo.\\n11.- TeclaCAMBIO :Activa función paracalcular elcambio .\\n12.- Teclas M1aM4:Acceso directo alasmemorias 01a\\n04(PLU).\\nTeclaNC(VT):Finaliza unaventa einiciaaotraventa.\\n13.- Segunda función VT:Seactiva después de\\nmantener presionada porsegundos .Muestra laVenta Total.\\n14.- Tecla“+”.Sumadeartículos pesados .\\n7Báscula Electrónica'),\n",
       " Document(metadata={'source': 'docs/manual-lpcr.pdf', 'page': 7}, page_content='VISOR/PANTALLA\\n1.-Indicador deTARA:Semuestra cuando lafunción TARAesactivada .\\n2.-Indicador dePESO:Muestra elpesodelobjeto sobrelabascula enkg.\\n3.-Indicador dePRECIO :Muestra elprecio delproducto porkg,hasta 5\\ndígitos .\\n4.-Indicador dePRECIO FIJO:Semuestra cuando lafunción PRECIO FIJOes\\nactivada .\\n5.-Indicador deELIMINADOR CONECTADO :Aparece cuando eleliminador de\\nbaterías esconectado alabascula yasuvezesteestaconectado aun\\ntomadecorriente de120/220VCA.\\n6.-Indicador deTOTAL :Muestra eltotalapagar porelcliente (peso x\\nprecio) .\\n7.-Indicador deCARGA DEBATERIA :Muestra elniveldecarga delabatería .\\n8.-Indicador deCERO:Semuestra cuando elpesosobreelplatoescero.4\\n12 3\\n5\\n6 78\\n8 Bascula electrónica'),\n",
       " Document(metadata={'source': 'docs/manual-lpcr.pdf', 'page': 8}, page_content='DESCRIPCIÓN DE OPERACIONES   \\nCOMO PESAR UN PRODUCTO \\nEncienda labáscula presionando latecla ON:Semostrará enel\\nvisor/pantalla “------”porunossegundos, después elvisor/pantalla\\nmostrará ceros.Enestemomento labáscula estalistaparapesar.Luego\\ncoloque elproducto apesar enelplatoyveráelpesoenelindicador de\\nPESO.Elindicador deCEROdesaparecerá delvisor/pantalla .Porejemplo :Si\\nsecoloca unproducto quepesa2.000kg,elvisor/pantalla mostrará :\\nCOMO UTILIZAR LA TECLA “TARA” \\nCuando desee pesar unproducto enunrecipiente ynodesea\\nconsiderar elpesodeestédurante unaoperación depesaje, puede\\nutilizar lafunción TARA, parautilizar estafunción solodebecolocar el\\nenvase orecipiente donde serácontenido elmaterial quedesea pesar,\\ndespués presione lateclaTARA einmediatamente después enelvisor\\n/pantalla seactivará elindicador deTARA yaparecerán ceros enla\\nlectura delvisor/pantalla .\\nEjemplo :Usted desea pesar 10kgdealgún producto líquido yel\\nrecipiente donde estelíquido serácontenido pesa2,000kg.\\nColoque elrecipiente sobre labáscula yestalemostrará elpesodel\\ncontenedor .\\nPresione lateclaTARA, elvisor/pantalla mostrará cerosyelindicador\\ndeTARAyCEROseactivarán, ahora sícoloque elmaterial dentro del\\ncontenedor puesto sobrelabáscula paraserpesado .\\nSiusted retira elrecipiente contenedor dematerial mientras la\\nfunción TARA estáactiva, labáscula lemostrará elpeso del\\nrecipiente consignonegativo .\\n9\\nBáscula Electrónica'),\n",
       " Document(metadata={'source': 'docs/manual-lpcr.pdf', 'page': 9}, page_content='Esimportante mencionar queestafunción essustractiva, porejemplo :\\nSitenemos unrecipiente quepesa2.000kglabáscula solamente\\npodrá pesar hasta 18.000 kgdeproducto para completar la\\ncapacidad máxima (20kg)paracancelar lafunción deTARA solo\\npresione latecla“TARA” cuando semuestra elpesonegativo del\\nrecipiente (alretirarlo delabascula) ylabáscula retornará ala\\nfunción normal .Elindicador deTARAdesaparecerá .Lassiguientes dos\\nobservaciones sondeespecial importancia :\\na)Cuando nohaypesosobre labáscula (recipiente) nosepuede\\nactivar lafunción deTARA.\\nb)Cuando unrecipiente estarado yalmomento deretirarlo se\\nremueve un..pesomayor aldelrecipiente (grasa oresiduos de\\nproducto, etc.)ocuando el.plato eslevantado unpocoel\\nvisor/pantalla mostrara “------”(negativo) aparecerá .\\nSiestasituación llegaapresentarse, sigaestospasos:\\na)Suelte elplatosiloestásosteniendo olevantando .\\nb)Silabáscula siguemarcando “------”(negativo), revise queno\\nhayaalgúnobjeto levantando elportaplato.\\nc)Apague yprenda labáscula (reinicio) .\\nCOMO INTRODUCIR PRECIOS  \\nElprecio porkilogramo delproducto seintroduce presionando los\\nnúmeros delteclado para indicar elvalor deseado .Estevalor\\naparecerá enelindicador dePRECIO yelvalorapagar secalculará\\nautomáticamente mostrándose enelindicador deTOTAL .\\nExisten dos formas de hacerlo, estas son manual y automáticamente:\\nManual: Si por error Ud. llegase a marcar un precio equivocado y \\ndesea borrar ese precio simplemente oprima la tecla C y marque el \\nnuevo precio.\\nAutomáticamente: después de quitar del plato el producto que se está \\npesando se borrará automáticamente el precio, excepto si se está \\ntrabajando con la función PRECIO FIJO.COMO BORRAR PRECIOS\\n10\\n Bascula electrónica'),\n",
       " Document(metadata={'source': 'docs/manual-lpcr.pdf', 'page': 10}, page_content='COMO USAR LA REFERENCIA A CERO \\nEsposible quelabáscula muestre números enelvisor/pantalla sintener\\nalgún producto enelplato, estodebido avariaciones devoltaje, manejo\\nrudo, oalgún otrofactor .Cuando estosuceda solopresione latecla\\nCERO yelindicador deCERO semostrara enelvisor/pantalla, esta\\noperación esconocida como “referenciar acero”.Cuando usted requiere estar pesando constantemente elmismo tipode\\nproducto, elcualnocambia deprecio, puede utilizar lafunción PRECIO FIJO.\\nEstafunción sirve para mantener “fijo” elprecio evitando queseborre\\nautomáticamente cuando seretira elproducto delabáscula .\\nPara fijar un precio siga estos pasos:\\n1) Coloque el producto sobre el plato.\\n2) Tecleé el precio por kilogramo del producto o acceda a una memoria (PLU).\\n3) Oprima la tecla PRECIO FIJO, después de esto se mostrara el indicador \\nPRECIO FIJO. \\nPor ejemplo:\\nSuponga que el producto es jamón cuyo peso es de 2.000 kg y el precio es de \\n$20.00 el kilogramo. El visor quedará de la siguiente manera: FUNCIÓN PRECIO FIJO\\nPara quitar esta función oprima la tecla C.\\nSUMA DE PRODUCTOS\\nColoque el peso sobre la báscula y teclee el precio del producto a vender, en \\nautomático la báscula le dará el total de la venta, presione la tecla “+” (MAS) \\npara hacer la suma de productos, repita esta operación para obtener la \\ncuenta total, para finalizar la venta, presione la tecla NC.\\nTotal de Artículos\\nTotal de la Cuenta\\n11\\nBáscula Electrónica'),\n",
       " Document(metadata={'source': 'docs/manual-lpcr.pdf', 'page': 11}, page_content='VISUALIZAR TOTAL DE LA VENTA AL MOMENTO \\nParavereltotaldelasuma deproductos almomento yanoesnecesario\\nsumar otroarticulo, soloesnecesario retirar elpesoqueestesobre el\\nplato yborrar elprecio delindicador dePRECIO mediante lateclaC.Una\\nvesquelostresindicadores (PESO, PRECIO yTOTAL) estén enceros se\\npresiona latecla “+”(MAS) ysemostrara lasuma total deartículos al\\nmomento .\\nCuando: Presionar Se muestra:\\nBorrar Venta TotalParavisualizar laVenta Totalseutiliza lasegunda función delatecla\\nNC,paraactivarla sepresiona NCpor2segundos .\\nPresionar por \\n2 segundos\\nVISUALIZAR VENTA TOTAL\\nParaborrar laVenta Total (hacer 0laVenta Total) esnecesario primero\\ndesplegar Venta Total yunavezquesemuestre eltotal presionar la\\nsecuencia deteclas NC,PUNTO (.).\\nDespliega VT Mientras se muestra presionar\\nBorrado Venta Total\\n12\\n Bascula electrónica'),\n",
       " Document(metadata={'source': 'docs/manual-lpcr.pdf', 'page': 12}, page_content='GRABAR LAS MEMORIAS PLU’S  \\nSu báscula cuenta con 100 memorias para almacenar los precios de los 100 \\nproductos que se venden con más frecuencia, las memorias se enumeran de \\nla 00 a la 99.\\nPara grabar un número de memoria siga los siguientes pasos:\\n1) Escriba el precio que desea grabar.\\n2) Oprima la tecla “ M”\\n3) Oprima el número de memoria donde desea grabar el precio (00 -99).\\nTodas las posiciones de memoria son sobre escribibles. Las primeras 4 \\nposiciones de memoria tienen las teclas de acceso rápido M1 a M4. \\nRECORDAR UNA MEMORIA \\nOprima la tecla “R” y luego el número de memoria que desea recordar.\\nCALCULAR CAMBIO\\nParautilizar lafunción decambio solamente presione lateclaCAMBIO .En\\nelindicador dePESO semostrara lapalabra “PESOS”, introduzca el\\nmonto delpago(presionando lateclaCsepuede corregir estacantidad)\\nyvuelva apresionar lateclaCAMBIO .Semostrara elmonto decambio\\nCA(resta delmonto introducido –totaldesumadeartículos) .\\n13Báscula Electrónica'),\n",
       " Document(metadata={'source': 'docs/manual-lpcr.pdf', 'page': 13}, page_content='INDICADOR DE  BATERÍA BAJA\\nSilabatería notienelasuficiente energía paraseguir operando porun\\nlargo tiempo .Elindicador debatería baja semostrará enel\\nvisor/pantalla .Estaeslaprimera señal queleindica queconecte el\\neliminador aunatomadecorriente alterna .FUNCIÓN DE APAGADO AUTOMÁTICO  \\nEstafunción estaactivada permanentemente .Silabáscula está\\nencendida sinqueeleliminador/cargador seencuentre conectado aun\\ntomacorriente ylabáscula noregistra variaciones depesoenel\\nplato osepresiona alguna tecla, porunperíodo aproximado de15\\nminutos, automáticamente seapagará paraahorrar lacarga desu\\nbatería .\\nUSO DE LA BATERÍA \\nLabáscula puede operar coneliminador debaterías oconbatería (4v\\nincluida) .labatería esrecargable utilizando eleliminador debaterías yel\\nprocedimiento eselsiguiente :\\nRecarga :pararealizar estaoperación, soloconecte eleliminador de\\nbaterías\\nalabáscula durante untiempo de10horasaproximadamente conla\\nbáscula apagada .Sirecarga labatería poralgunas horas peroéstano\\nobtiene suficiente energía paraencender labáscula, entonces sedeberá\\ndecambiar labatería porunanueva.Enestecasocontacte asu\\ndistribuidor autorizado .\\nNOTA: ANTES DE OPERAR LA BÁSCULA SE DEBE RECARGAR LA   .  . .   .                   \\nBATERÍA DURANTE 10 HORAS.\\nLa capacidad de recarga de la batería decrece de acuerdo al número de \\nciclos de carga/descarga, esto ocasiona que la vida de la batería se \\nreduzca a 1000 ciclos.\\nPor esta razón la garantía de la batería es por seis meses después de la \\ncompra de su báscula. \\n14 Bascula electrónica'),\n",
       " Document(metadata={'source': 'docs/manual-lpcr.pdf', 'page': 14}, page_content='15OTROS MENSAJES IMPORTANTES QUE\\nAPARECEN EN LA BÁSCULA  \\nEstemensaje indica queelpesopuesto en\\nelplato delabáscula haexcedido la\\ncapacidad máxima soportable .Paracorregir\\nesto,simplemente retire elexceso depeso\\nsobrelabáscula .\\nEstemensaje aparece endosocasiones\\ndiferentes :\\n1.-Cuando labáscula esencendida conun\\npesoexcesivo sobre suplato (arriba del\\n50%delacapacidad delabáscula), para\\ncorregir esto retire elpeso delplato,\\napague labáscula yvuelva aencenderla .SOBRE PESO \\nHELP\\nEXCESO DE VALOR \\nEstemensaje indica queeltotal esta\\nexcedido, cuando lamultiplicación de\\nprecio porpesoesmayor que999999 se\\nmuestran guiones enelIndicador de\\nTOTAL .PLS UNLOAD\\nEstemensaje aparece cuando labáscula es\\nencendida conunpesoexcesivo sobre su\\nplato(arriba del20%delacapacidad dela\\nbáscula), paracorregir estoretire elpeso\\ndelplato, apague labáscula yvuelva a\\nencenderla .\\nBáscula Electrónica'),\n",
       " Document(metadata={'source': 'docs/manual-lpcr.pdf', 'page': 15}, page_content='MANTENIMIENTO Y LIMPIEZA \\nUnadelasgrandes ventajas deadquirir estemodelo debáscula esque\\nrequiere unmínimo demantenimiento esmuysimple paraconservarla\\nenunestado favorable .\\nNodebeusaraguaachorro ocompresores parasulimpieza, bastará\\nconusar unafranela húmeda para limpiar cada unodelos\\ncomponentes .\\nPararemover aceite ysubstancias grasosas utilice untrapo limpio y\\nsecotallando eláreasuciavarias veces.\\nNoutilice detergentes nilíquidos corrosivos durante lalimpieza .\\nNocoloque labáscula donde hayamucha humedad y/opolvo.\\nCuando limpie labáscula asegúrese quenohayapapeles, piezas de\\ncarne ocualquier tipodematerial debajo delplatoodelporta plato\\nquepudiera obstruir laadecuada operación delabáscula .\\nPeriódicamente revise elJackdonde seconecta eleliminador delas\\nbaterías paraasegurar queseencuentre enbuenas condiciones, esto\\nconlafinalidad dequenoestérotoparcial ototalmente oelcable\\nestétorcido .\\nVerifique periódicamente quelabáscula estébiennivelada .\\nNoexponga labáscula atemperaturas pordebajo delos-10°C(14°F)o\\nsuperiores alos40°C(104°F).\\nNunca presione elteclado conobjetos talescomo lápices, plumas,\\nnavajas ocualquier material punzocortante .\\nNodejecaerdegolpecualquier producto sobre elplatodelabáscula\\nyaqueestopodría dañar laceldadecarga.Estemensaje indica queelpesoesnegativo,\\nestopuede serocasionado siselevanta ose\\nquita elplato delabáscula .Paracorregir\\nesto, verifique que noexista algo\\nobstruyendo alporta plato ydespués\\npresione lateclaCEROoapague labáscula y\\nvuelva aencenderla .PESO NEGATIVO\\n16\\n Bascula electrónica'),\n",
       " Document(metadata={'source': 'docs/manual-lpcr.pdf', 'page': 16}, page_content='Problema Causa Solución\\nLa báscula no \\nenciende.\\nLa palabra “bAjA bAT”\\naparece en el \\nvisor/pantalla.Probablemente no \\ntenga carga la batería.Conecte el cargador \\na una toma de \\ncorriente alterna por\\n10 horas para cargar \\nla batería.\\nLabáscula no \\nenciende aún con el \\neliminador conectado. Un posible cable \\nroto en el \\neliminador o un \\nenchufe\\ndefectuoso  Conecte la báscula a \\nun enchufe del que \\nusted este seguro \\nque funciona \\ncorrectamente.\\nDe ser posible \\nverifique con un \\nmultímetro el voltaje \\nque entrega el \\neliminador ( 6 V).\\nLa báscula muestra \\ndiferentes pesos cuando \\nse pesa un mismo \\nproducto varias veces.Material debajo del porta\\nplato está obstruyendo\\nel correcto \\nfuncionamiento.Revise que no haya \\nningún material debajo \\ndel porta plato. Si existe, \\nremuévalo y revise la \\noperación de nuevo.\\nLa palabra “HELP”\\naparece en el \\nvisor/pantalla.La báscula fue prendida\\ncon un peso grande en el\\nplato.Remueva el peso y \\napague la báscula y \\nvuelva a encenderla.\\nLa palabra “ PLS \\nUNLOAd”\\naparece en el \\nvisor/pantalla.La báscula fue prendida\\ncon un peso medio sobre \\nel plato.Remueva el peso y \\napague la báscula y \\nvuelva a encenderla.GUÍA PARA LA LOCALIZACIÓN DE AVERÍAS  \\nAntes dellamar asudistribuidor autorizado parasolicitar elservicio\\ntécnico parasubáscula, lesugerimos revise algunas delasposibles\\ncausas ysoluciones parahacer quesubáscula funcione correctamente .\\n17Báscula Electrónica'),\n",
       " Document(metadata={'source': 'docs/manual-lpcr.pdf', 'page': 17}, page_content='ESPECIFICACIONES TÉCNICAS   \\nMODELO L -PCR-20 MODELO L -PCR-40\\nMAX. 2/4/20kg\\nMIN. 20g\\nMIN. DIV. 1g, 2g, 5g\\nMAX. TARA 9.995kg\\nPRECIO MAX/ kg $ 999.99\\nIMPORT MAX $9999.99\\nTEMP OPER -10°C a 40 °CMAX. 4/8/40kg\\nMIN. 40g\\nMIN. DIV. 2g, 5g, 10g\\nMAX. TARA 9.990kg\\nPRECIO MAX/ kg $ 999.99\\nIMPORT MAX $9999.99\\nTEMP OPER -10°C a 40 °C\\nMAX = CAPACIDAD MAXIMA.\\nMIN. = CAPACIDAD MINIMA.\\nTARE MAX= TARA MAXIMA.\\nPRICE MAX / kg = PRECIO MAXIMO POR kg\\nIMPOR MAX = IMPORTE MAXIMO.\\nTEMP OPER = TEMPERATURA DE OPERACION.\\nNOTA: LAS BATERÍAS SOLO PUEDEN \\nSER RECARGADAS DE 0ºC A 40ºC \\nTEMPERATURA DE ALMACENAJE -4°F A \\n122°F \\nO -20°C A 50 °C.\\nENTRADA DEL ADAPTADOR/CARGADOR \\n120-240VCA  50/60HZ  0.2A\\nSALIDA DEL ADAPTADOR CARGADOR \\n6VCC  0.5A\\n18 Bascula electrónica'),\n",
       " Document(metadata={'source': 'docs/manual-lpcr.pdf', 'page': 18}, page_content='19Elnúmero deseriedeesteproducto puede serencontrado enlaplaca\\nderegistro debajo delabascula .Lesugerimos queescriba estenúmero\\nyelmodelo correspondiente enlossiguientes espacios ytenerlos como\\nunaprueba desuadquisición yparalaayuda deidentificación encaso\\ndepérdida ofuturas consultas .\\nDistribuidor___________________________________________\\nDirección_____________________________________________\\nTeléfono______________________________________________\\nFecha de la compra_____________________________________\\nModelo de la báscula____________________________________\\nNúmero de serie________________________________________\\nNos reservamos el derecho de cambiar cualquier especificación \\ncontenida en este texto sin previo aviso. DATOS ADICIONALESBáscula Electrónica'),\n",
       " Document(metadata={'source': 'docs/manual-lpcr.pdf', 'page': 19}, page_content='BÁSCULA\\nELECTRÓNICA\\nwww.torrey.net')]"
      ]
     },
     "execution_count": 2,
     "metadata": {},
     "output_type": "execute_result"
    }
   ],
   "source": [
    "from langchain_community.document_loaders import PyPDFLoader\n",
    "\n",
    "loader = PyPDFLoader(\"docs/manual-lpcr.pdf\")\n",
    "pages = loader.load_and_split()\n",
    "pages"
   ]
  },
  {
   "cell_type": "code",
   "execution_count": 3,
   "metadata": {},
   "outputs": [
    {
     "name": "stdout",
     "output_type": "stream",
     "text": [
      "\n",
      "Responde la pregunta basado en el contexto de abajo. Si no puedes\n",
      "responder la pregunta, responde \"No lo se\"\n",
      "\n",
      "Context: Esto es un contexto\n",
      "\n",
      "Question: Esto es una pregunta\n",
      "\n"
     ]
    }
   ],
   "source": [
    "from langchain.prompts import PromptTemplate\n",
    "\n",
    "template = \"\"\"\n",
    "Responde la pregunta basado en el contexto de abajo. Si no puedes\n",
    "responder la pregunta, responde \"No lo se\"\n",
    "\n",
    "Context: {context}\n",
    "\n",
    "Question: {question}\n",
    "\"\"\"\n",
    "\n",
    "prompt = PromptTemplate.from_template(template)\n",
    "print(prompt.format(context=\"Esto es un contexto\", question=\"Esto es una pregunta\"))"
   ]
  },
  {
   "cell_type": "code",
   "execution_count": 4,
   "metadata": {},
   "outputs": [
    {
     "name": "stderr",
     "output_type": "stream",
     "text": [
      "/Users/ivanlee/llama-rag-demo/.venv/lib/python3.10/site-packages/pydantic/_migration.py:283: UserWarning: `pydantic.error_wrappers:ValidationError` has been moved to `pydantic:ValidationError`.\n",
      "  warnings.warn(f'`{import_path}` has been moved to `{new_location}`.')\n"
     ]
    }
   ],
   "source": [
    "from langchain_community.vectorstores import DocArrayInMemorySearch\n",
    "\n",
    "vectorstore = DocArrayInMemorySearch.from_documents(\n",
    "    pages, \n",
    "    embedding=embeddings\n",
    "    )\n",
    "\n",
    "# Instantiate a retriever\n",
    "retriever = vectorstore.as_retriever()"
   ]
  },
  {
   "cell_type": "code",
   "execution_count": 5,
   "metadata": {},
   "outputs": [],
   "source": [
    "#from operator import itemgetter\n",
    "\n",
    "#chain = (\n",
    "#    {\n",
    "#        \"context\": itemgetter(\"question\") | retriever,\n",
    "#        \"question\": itemgetter(\"question\")\n",
    "#    } \n",
    "#    | prompt\n",
    "#    | model \n",
    "#)"
   ]
  },
  {
   "cell_type": "code",
   "execution_count": 6,
   "metadata": {},
   "outputs": [],
   "source": [
    "from langchain_core.runnables import RunnablePassthrough\n",
    "\n",
    "chain = (\n",
    "    {\n",
    "        \"context\": retriever,\n",
    "        \"question\": RunnablePassthrough()\n",
    "}\n",
    "| prompt\n",
    "| model\n",
    ")"
   ]
  },
  {
   "cell_type": "code",
   "execution_count": 7,
   "metadata": {},
   "outputs": [
    {
     "name": "stdout",
     "output_type": "stream",
     "text": [
      "Pregunta: Como peso un producto?\n",
      "Respuesta: La respuesta es: \"Encienda la báscula presionando la tecla ON y luego coloque el producto en la plataforma. Luego, el visor/pantalla mostrará ceros y en ese momento la báscula está lista para pesar. Después de colocar el producto, el indicador de peso mostrará el peso exacto del producto.\"\n",
      "\n",
      "Pregunta: Como se introduce el precio por kilogramo?\n",
      "Respuesta: No lo sé\n",
      "\n",
      "Pregunta: Como puedo borrar la venta total?\n",
      "Respuesta: Según el manual de instrucciones de la Báscula Electrónica, puedes borrar la venta total presionando una tecla específica. La respuesta correcta es:\n",
      "\n",
      "Visualizar Venta Total \\nBorrar Venta Total \n",
      "\n",
      "Por lo tanto, la respuesta a tu pregunta es: \"Presiona el botón 'Borrar Venta Total'\".\n",
      "\n"
     ]
    }
   ],
   "source": [
    "questions = [\n",
    "    \"Como peso un producto?\",\n",
    "    \"Como se introduce el precio por kilogramo?\",\n",
    "    \"Como puedo borrar la venta total?\",\n",
    "]\n",
    "\n",
    "for question in questions:\n",
    "    print(f\"Pregunta: {question}\")\n",
    "    print(f\"Respuesta: {chain.invoke({'question': question})}\")\n",
    "    print()"
   ]
  },
  {
   "cell_type": "markdown",
   "metadata": {},
   "source": [
    "### Extraer texto en *markdown* del archivo PDF con [Marker](https://github.com/VikParuchuri/marker])\n",
    "\n",
    "- Para convertir un solo archivo (desde la terminal):\n",
    "\n",
    "    `marker_single /path/to/file.pdf /path/to/output/folder --batch_multiplier 2 --max_pages 10`\n",
    "\n",
    "- Para convertir multiples archivos:\n",
    "\n",
    "    `marker /path/to/input/folder /path/to/output/folder --workers 4 --max 10 --min_length 10000`\n",
    "---\n",
    "\n",
    "***Nota:*** *Recomendado utilizar GPU (CUDA o MPS) y 16 GB de RAM*\n"
   ]
  },
  {
   "cell_type": "code",
   "execution_count": 8,
   "metadata": {},
   "outputs": [
    {
     "data": {
      "text/plain": [
       "[Document(metadata={'source': 'docs/manual-lpcr/manual-lpcr.md'}, page_content='MANUAL DE USUARIO BÁSCULA ELECTRÓNICA\\n\\nSeries L-PCR antes de operar su báscula, favor de leer ESTE MANUAL CUIDADOSAMENTE.\\n\\nÍndice\\n\\n2 3 5 5 6 7 8 9 9 9 10 11 11 11 12 12 12 13 13 13 14 14 14 15 16 17 18 Índice\\n\\nAdvertencias Importantes Introducción Instrucciones de instalación Nombre y localización de piezas Teclado Visor/Pantalla Descripción de las operaciones Cómo pesar un producto Como utilizar la tecla TARA Cómo introducir precios Función PRECIO FIJO Cómo usar la Referencia a CERO Suma de productos Visualizar total de la venta al momento Visualizar Venta Total Borrar Venta Total Grabar las memorias PLU`s Recordar una memoria Calcular Cambio Función de apagado automático Indicador de batería baja Uso de la batería Otros mensaje importantes de la bascula Mantenimiento y limpieza Guía para la localización de averías Especificaciones técnicas\\n\\nLa Batería Debe Ser Cargada Por 10 Hrs. Antes De Usar La Báscula Por Primera Vez.\\n\\nCuidado\\n\\n¡¡¡No abra la báscula!!! Precaución: para reducir el riesgo de corto Circuito en la báscula no abra ni sustituya Cualquiera de sus partes por otras que no sean autorizadas por el distribuidor.\\n\\n2 Bascula electrónica\\n\\nAdvertencias Importantes\\n\\n1- En caso de tener problemas con la bascula, lea primero las condiciones de garantía.\\n\\n2- No abra la bascula por su cuenta. La garantía quedaría anulada.\\n\\n3- Nunca presione el teclado con objetos tales como lápices, plumas, navajas, etc.\\n\\n4- Utilice una salida exclusiva para la bascula de\\n\\n110-240VCA, evitando sobrecargas o variaciones de voltaje.\\n\\n5- Nuca lave la bascula utilizando chorro de agua.\\n\\nPodría dañar los componentes electrónicos. Para mas información lea la sección \"mantenimiento y limpieza\".\\n\\n6- Proteja la bascula de los insectos (principalmente de las cucarachas), ya que pueden dañar los componentes electrónicos. Utilice productos solidos contra cucarachas.\\n\\n7- No deje caer ni golpee la bascula con el producto a pesar, ya que con el paso del tiempo la celda de carga podría dañarse.\\n\\n8- No utilice disolventes ni detergentes para la limpieza, utilice solamente un trapo húmedo.\\n\\nAdvertencias Importantes\\n\\n9- No dirija ventiladores ni calentadores directamente hacia la bascula.\\n\\n10- No coloque la bascula donde haya un exceso de humedad o polvo.\\n\\n11- Solamente personal autorizado y calificado deberá inspeccionar y reparar la bascula.\\n\\nIntroducción\\n\\nEstimado cliente: Le agradecemos su preferencia, nosotros le aseguramos que obtendrá la máxima satisfacción de su nueva adquisición para su negocio. Le sugerimos que lea el manual cuidadosamente, y asegúrese de tenerlo a la mano para próximas consultas.\\n\\nInstrucciones De Instalacion\\n\\n1- Desempaque la báscula y compruebe que esté en buenas condiciones. Si encuentra algún desperfecto, notifíquelo inmediatamente a su distribuidor autorizado.\\n\\n2- Coloque la bascula en un lugar libre de movimientos y vibraciones, asegúrese de este bien nivelada, comprobando que los cuatro pies niveladores sostengan la bascula en la superficie en la que la ha colocado y que la burbuja de nivelación (debajo del plato) este centrada; ajuste, apriete o afloje los pies de nivelación hasta que la burbuja se sitúe en el centro del círculo.\\n\\n3- Conecte el adaptador CA/CC (si lo utiliza) a una salida de 110VCA/240VCA.\\n\\n4- Encienda la bascula y observara en el visor/pantalla: NOTA IMPORTANTE: Si al efectuar los pasos descritos anteriormente la bascula muestra la palabra \"HELP\" significa que fue maltratada y/o golpeada durante el transporte, lo que le causó un daño irreversible. De ser así diríjase a su distribuidor autorizado también es posible que la báscula muestre \"HELP\" cuando se enciende con algún producto sobre el plato, en este caso, retire el peso de la bascula, apáguela y vuelva a encenderla.\\n\\nNombre Y Localización De Piezas\\n\\n1.- GABINETE: Fabricado en acero inoxidable, resistente a la corrosión .\\n\\n2.- PLATO: De grado alimenticio, fabricado acero inoxidable con las orillas dobladas y redondeadas.'),\n",
       " Document(metadata={'source': 'docs/manual-lpcr/manual-lpcr.md'}, page_content='1.- GABINETE: Fabricado en acero inoxidable, resistente a la corrosión .\\n\\n2.- PLATO: De grado alimenticio, fabricado acero inoxidable con las orillas dobladas y redondeadas.\\n\\n3.- PORTAPLATO: Fabricado en aluminio, el cual posee resistencia a la corrosión.\\n\\n4.- TECLADO CAPACITIVO: Con funciones y teclas legibles y operación al tocar.\\n\\n5.- VISOR/PANTALLA: De cristal liquido. Indica peso, precio y total.\\n\\n6.-PIES DE NIVELACION: Nivelan la bascula al ajustarlos.\\n\\n7.-JACK: Conexión para el eliminador de batería a la bascula. Situada en la base de la bascula.\\n\\n8.-VISOR/PANTALLA POSTERIOR. De cristal liquido. Indica peso, precio y total.\\n\\n9.- NIVEL CIRCULAR: Se utiliza como referencia par nivelar la bascula. Situado en la parte superior del gabinete. 10.- ELIMINADOR DE BATERIAS: 120VCA/6VCC o 220VCA/6VCC (incluido).\\n\\nBascula electrónica 6\\n\\nTeclado\\n\\n1.- Enciende la bascula.\\n\\n2.- Apaga la bascula.\\n\\n12.- Teclas M1 a M4: Acceso directo a las memorias 01 a 04 (PLU).\\n\\nTecla NC (VT): Finaliza una venta e inicia a otra venta.\\n\\n13.- Segunda función VT: Se activa después de mantener presionada por segundos. Muestra la Venta Total.\\n\\n3.- Tecla CERO: Pone a cero el peso mostrado en la bascula.\\n\\n4.- Tecla TARA: Elimina el peso del recipiente sobre la bascula. 5.- Tecla M: Guarda precios en la memoria de la bascula (PLU). 6.- Tecla R: Recupera un precio almacenado en la memoria (PLU). 7.- SECCION NUMERICA: Introduce números a la bascula.\\n\\n8.- Tecla \"PUNTO\": Introduce punto decimal.\\n\\n9.- Tecla C: Borra datos erróneos introducidos desde el teclado.\\n\\n10.- Tecla PRECIO FIJO: Activa la función de Precio Fijo. 11.- Tecla CAMBIO: Activa función para calcular el cambio. 14.- Tecla \"+\". Suma de artículos pesados.\\n\\nVisor/Pantalla\\n\\n8.- Indicador de CERO: Se muestra cuando el peso sobre el plato es cero. 1.- Indicador de TARA: Se muestra cuando la función TARA es activada. 2.- Indicador de PESO: Muestra el peso del objeto sobre la bascula en kg.\\n\\n3.- Indicador de PRECIO: Muestra el precio del producto por kg, hasta 5 dígitos.\\n\\n4.- Indicador de PRECIO FIJO: Se muestra cuando la función PRECIO FIJO es activada.\\n\\n5.- Indicador de ELIMINADOR CONECTADO: Aparece cuando el eliminador de baterías es conectado a la bascula y a su vez este esta conectado a un toma de corriente de 120/220VCA.\\n\\n6.- Indicador de TOTAL: Muestra el total a pagar por el cliente (peso x precio).\\n\\n7.- Indicador de CARGA DE BATERIA: Muestra el nivel de carga de la batería.\\n\\nDescripción De Operaciones Como Pesar Un Producto\\n\\nEncienda la báscula presionando la tecla ON: Se mostrará en el\\n\\nvisor/pantalla \" ------\" por unos segundos, después el visor/pantalla mostrará ceros. En este momento la báscula esta lista para pesar. Luego coloque el producto a pesar en el plato y verá el peso en el indicador de PESO. El indicador de CERO desaparecerá del visor /pantalla. Por ejemplo: Si se coloca un producto que pesa 2.000 kg, el visor/pantalla mostrará:\\n\\nComo Utilizar La Tecla \"Tara\"\\n\\nCuando desee pesar un producto en un recipiente y no desea considerar el peso de esté durante una operación de pesaje, puede utilizar la función TARA, para utilizar esta función solo debe colocar el envase o recipiente donde será contenido el material que desea pesar, después presione la tecla TARA e inmediatamente después en el visor /pantalla se activará el indicador de TARA y aparecerán ceros en la lectura del visor /pantalla. Ejemplo: Usted desea pesar 10 kg de algún producto líquido y el recipiente donde este líquido será contenido pesa 2,000kg. Coloque el recipiente sobre la báscula y esta le mostrará el peso del contenedor. Presione la tecla TARA, el visor/pantalla mostrará ceros y el indicador\\n\\nde TARA y CERO se activarán, ahora sí coloque el material dentro del contenedor puesto sobre la báscula para ser pesado. Si usted retira el recipiente contenedor de material mientras la\\n\\nfunción TARA está activa, la báscula le mostrará el peso del recipiente con signo negativo.'),\n",
       " Document(metadata={'source': 'docs/manual-lpcr/manual-lpcr.md'}, page_content='función TARA está activa, la báscula le mostrará el peso del recipiente con signo negativo.\\n\\nEs importante mencionar que esta función es sustractiva, por ejemplo: Si tenemos un recipiente que pesa 2.000 kg la báscula solamente podrá pesar hasta 18.000 kg de producto para completar la capacidad máxima (20 kg) para cancelar la función de TARA solo presione la tecla \"TARA\" cuando se muestra el peso negativo del recipiente (al retirarlo de la bascula) y la báscula retornará a la función normal. El indicador de TARA desaparecerá. Las siguientes dos observaciones son de especial importancia: a) Cuando no hay peso sobre la báscula (recipiente) no se puede activar la función de TARA. b) Cuando un recipiente es tarado y al momento de retirarlo se remueve un . . peso mayor al del recipiente (grasa o residuos de producto, etc.) o cuando el . plato es levantado un poco el visor/pantalla mostrara \"------\" (negativo) aparecerá.\\n\\nSi esta situación llega a presentarse, siga estos pasos: a) Suelte el plato si lo está sosteniendo o levantando.\\n\\nb) Si la báscula sigue marcando \"------\" (negativo), revise que no haya algún objeto levantando el porta plato.\\n\\nc) Apague y prenda la báscula (reinicio).\\n\\nComo Introducir Precios\\n\\nEl precio por kilogramo del producto se introduce presionando los números del teclado para indicar el valor deseado. Este valor aparecerá en el indicador de PRECIO y el valor a pagar se calculará automáticamente mostrándose en el indicador de TOTAL.\\n\\nComo Borrar Precios\\n\\nExisten dos formas de hacerlo, estas son manual y automáticamente: Manual: Si por error Ud. llegase a marcar un precio equivocado y desea borrar ese precio simplemente oprima la tecla C y marque el nuevo precio. Automáticamente: después de quitar del plato el producto que se está pesando se borrará automáticamente el precio, excepto si se está trabajando con la función PRECIO FIJO.\\n\\n10 Bascula electrónica\\n\\nFunción Precio Fijo\\n\\nCuando usted requiere estar pesando constantemente el mismo tipo de producto, el cual no cambia de precio, puede utilizar la función PRECIO FIJO. Esta función sirve para mantener \"fijo\" el precio evitando que se borre automáticamente cuando se retira el producto de la báscula. Para fijar un precio siga estos pasos: 1) Coloque el producto sobre el plato.\\n\\n2) Tecleé el precio por kilogramo del producto o acceda a una memoria (PLU). 3) Oprima la tecla PRECIO FIJO, después de esto se mostrara el indicador PRECIO FIJO. Por ejemplo: Suponga que el producto es jamón cuyo peso es de 2.000 kg y el precio es de $20.00 el kilogramo. El visor quedará de la siguiente manera: Para quitar esta función oprima la tecla C.\\n\\nComo Usar La Referencia A Cero\\n\\nEs posible que la báscula muestre números en el visor/pantalla sin tener algún producto en el plato, esto debido a variaciones de voltaje, manejo rudo, o algún otro factor. Cuando esto suceda solo presione la tecla CERO y el indicador de CERO se mostrara en el visor/pantalla, esta operación es conocida como \"referenciar a cero\".\\n\\nSuma De Productos\\n\\nColoque el peso sobre la báscula y teclee el precio del producto a vender, en automático la báscula le dará el total de la venta, presione la tecla \"+\" (MAS) para hacer la suma de productos, repita esta operación para obtener la cuenta total, para finalizar la venta, presione la tecla NC.\\n\\nTotal de Artículos Total de la Cuenta\\n\\nVisualizar Total De La Venta Al Momento\\n\\nPara ver el total de la suma de productos al momento ya no es necesario sumar otro articulo, solo es necesario retirar el peso que este sobre el plato y borrar el precio del indicador de PRECIO mediante la tecla C. Una ves que los tres indicadores (PESO, PRECIO y TOTAL) estén en ceros se presiona la tecla \"+\" (MAS) y se mostrara la suma total de artículos al momento.\\n\\nVisualizar Venta Total\\n\\nPara visualizar la Venta Total se utiliza la segunda función de la tecla NC, para activarla se presiona NC por 2 segundos.\\n\\nBorrar Venta Total'),\n",
       " Document(metadata={'source': 'docs/manual-lpcr/manual-lpcr.md'}, page_content='Visualizar Venta Total\\n\\nPara visualizar la Venta Total se utiliza la segunda función de la tecla NC, para activarla se presiona NC por 2 segundos.\\n\\nBorrar Venta Total\\n\\nPara borrar la Venta Total (hacer 0 la Venta Total) es necesario primero desplegar Venta Total y una vez que se muestre el total presionar la secuencia de teclas NC, PUNTO (.).\\n\\nGrabar Las Memorias Plu\\'S\\n\\nSu báscula cuenta con 100 memorias para almacenar los precios de los 100 productos que se venden con más frecuencia, las memorias se enumeran de la 00 a la 99. Para grabar un número de memoria siga los siguientes pasos: 1) Escriba el precio que desea grabar. 2) Oprima la tecla \"M\" 3) Oprima el número de memoria donde desea grabar el precio (00-99).\\n\\nTodas las posiciones de memoria son sobre escribibles. Las primeras 4\\n\\nposiciones de memoria tienen las teclas de acceso rápido M1 a M4.\\n\\nRecordar Una Memoria\\n\\nOprima la tecla \"R\" y luego el número de memoria que desea recordar.\\n\\nCalcular Cambio\\n\\nPara utilizar la función de cambio solamente presione la tecla CAMBIO. En el indicador de PESO se mostrara la palabra \"PESOS\", introduzca el monto del pago (presionando la tecla C se puede corregir esta cantidad) y vuelva a presionar la tecla CAMBIO. Se mostrara el monto de cambio CA (resta del monto introducido - total de suma de artículos).\\n\\nFunción De Apagado Automático\\n\\nEsta función esta activada permanentemente. Si la báscula está encendida sin que el eliminador/cargador se encuentre conectado a un toma corriente y la báscula no registra variaciones de peso en el plato o se presiona alguna tecla, por un período aproximado de 15 minutos, automáticamente se apagará para ahorrar la carga de su batería.\\n\\nIndicador De Batería Baja\\n\\nSi la batería no tiene la suficiente energía para seguir operando por un largo tiempo. El indicador de batería baja se mostrará en el visor/pantalla. Esta es la primera señal que le indica que conecte el eliminador a una toma de corriente alterna.\\n\\nUso De La Batería\\n\\nLa báscula puede operar con eliminador de baterías o con batería (4v incluida). la batería es recargable utilizando el eliminador de baterías y el procedimiento es el siguiente: Recarga: para realizar esta operación, solo conecte el eliminador de baterías a la báscula durante un tiempo de 10 horas aproximadamente con la báscula apagada. Si recarga la batería por algunas horas pero ésta no obtiene suficiente energía para encender la báscula, entonces se deberá de cambiar la batería por una nueva. En este caso contacte a su distribuidor autorizado. NOTA: ANTES DE OPERAR LA BÁSCULA SE DEBE RECARGAR LA . . . . BATERÍA DURANTE 10 HORAS. La capacidad de recarga de la batería decrece de acuerdo al número de ciclos de carga/descarga, esto ocasiona que la vida de la batería se reduzca a 1000 ciclos. Por esta razón la garantía de la batería es por seis meses después de la compra de su báscula.\\n\\nOtros Mensajes Importantes Que Aparecen En La Báscula\\n\\nSobre Peso\\n\\nEste mensaje indica que el peso puesto en el plato de la báscula ha excedido la capacidad máxima soportable. Para corregir esto, simplemente retire el exceso de peso sobre la báscula.\\n\\nPls Unload\\n\\nEste mensaje aparece cuando la báscula es encendida con un peso excesivo sobre su plato (arriba del 20% de la capacidad de la báscula), para corregir esto retire el peso del plato, apague la báscula y vuelva a encenderla.\\n\\nHelp\\n\\nEste mensaje aparece en dos ocasiones diferentes: 1.- Cuando la báscula es encendida con un peso excesivo sobre su plato (arriba del 50% de la capacidad de la báscula), para corregir esto retire el peso del plato, apague la báscula y vuelva a encenderla.\\n\\nExceso De Valor\\n\\nEste mensaje indica que el total esta excedido, cuando la multiplicación de precio por peso es mayor que 999999 se muestran guiones en el Indicador de TOTAL.\\n\\nPeso Negativo\\n\\nEste mensaje indica que el peso es negativo,'),\n",
       " Document(metadata={'source': 'docs/manual-lpcr/manual-lpcr.md'}, page_content='Peso Negativo\\n\\nEste mensaje indica que el peso es negativo,\\n\\nesto puede ser ocasionado si se levanta o se quita el plato de la báscula. Para corregir esto, verifique que no exista algo obstruyendo al porta plato y después presione la tecla CERO o apague la báscula y vuelva a encenderla.\\n\\nMantenimiento Y Limpieza\\n\\nUna de las grandes ventajas de adquirir este modelo de báscula es que requiere un mínimo de mantenimiento es muy simple para conservarla en un estado favorable. No debe usar agua a chorro o compresores para su limpieza, bastará con usar una franela húmeda para limpiar cada uno de los componentes. Para remover aceite y substancias grasosas utilice un trapo limpio y seco tallando el área sucia varias veces. No utilice detergentes ni líquidos corrosivos durante la limpieza. No coloque la báscula donde haya mucha humedad y/o polvo. Cuando limpie la báscula asegúrese que no haya papeles, piezas de carne o cualquier tipo de material debajo del plato o del porta plato que pudiera obstruir la adecuada operación de la báscula. Periódicamente revise el Jack donde se conecta el eliminador de las baterías para asegurar que se encuentre en buenas condiciones, esto con la finalidad de que no esté roto parcial o totalmente o el cable esté torcido. Verifique periódicamente que la báscula esté bien nivelada. No exponga la báscula a temperaturas por debajo de los -10°C (14°F) o superiores a los 40°C (104°F). Nunca presione el teclado con objetos tales como lápices, plumas, navajas o cualquier material punzocortante. No deje caer de golpe cualquier producto sobre el plato de la báscula ya que esto podría dañar la celda de carga.\\n\\nGuía Para La Localización De Averías\\n\\nAntes de llamar a su distribuidor autorizado para solicitar el servicio técnico para su báscula, le sugerimos revise algunas de las posibles causas y soluciones para hacer que su báscula funcione correctamente.\\n\\ncausas y soluciones para hacer que su báscula funcione correctamente. Problema Causa Solución La báscula no  enciende. Probablemente no  Conecte el cargador  tenga carga la batería. a una toma de  corriente alterna por 10 horas para cargar  la batería. La palabra \"bAjA bAT\" aparece en el  visor/pantalla. Conecte la báscula a  un enchufe del que  usted este seguro  que funciona  correctamente. La báscula no  enciende aún con el  eliminador conectado.  Un posible cable  roto en el  eliminador o un  enchufe defectuoso  De ser posible  verifique con un  multímetro el voltaje  que entrega el  eliminador ( 6 V). La báscula muestra diferentes pesos cuando  se pesa un mismo  producto varias veces. Material debajo del porta plato está obstruyendo el correcto  funcionamiento. Revise que no haya ningún material debajo del porta plato. Si existe,  remuévalo y revise la  operación de nuevo. La palabra \"HELP\" aparece en el  visor/pantalla. La báscula fue prendida con un peso grande en el plato. Remueva el peso y  apague la báscula y  vuelva a encenderla. La báscula fue prendida con un peso medio sobre  el plato. Remueva el peso y  apague la báscula y  vuelva a encenderla. La palabra \" PLS  UNLOAd\" aparece en el  visor/pantalla.\\n\\nEspecificaciones Técnicas\\n\\nMODELO L-PCR-20 MODELO L-PCR-40 MAX. 2/4/20kg MIN. 20g MIN. DIV. 1g, 2g, 5g MAX. TARA 9.995kg PRECIO MAX/ kg $ 999.99 IMPORT MAX $9999.99 TEMP OPER -10°C a 40 °C MAX. 4/8/40kg MIN. 40g MIN. DIV. 2g, 5g, 10g MAX. TARA 9.990kg PRECIO MAX/ kg $ 999.99 IMPORT MAX $9999.99 TEMP OPER -10°C a 40 °C\\n\\nMAX = CAPACIDAD MAXIMA.\\n\\nMIN. = CAPACIDAD MINIMA.\\n\\nTARE MAX= TARA MAXIMA. PRICE MAX / kg = PRECIO MAXIMO POR kg IMPOR MAX = IMPORTE MAXIMO. TEMP OPER = TEMPERATURA DE OPERACION.\\n\\nNOTA: LAS BATERÍAS SOLO PUEDEN\\n\\nSER RECARGADAS DE 0ºC A 40ºC TEMPERATURA DE ALMACENAJE -4°F A 122°F O -20°C A 50°C. ENTRADA DEL ADAPTADOR/CARGADOR 120-240VCA 50/60HZ 0.2A SALIDA DEL ADAPTADOR CARGADOR 6VCC 0.5A\\n\\nDatos Adicionales'),\n",
       " Document(metadata={'source': 'docs/manual-lpcr/manual-lpcr.md'}, page_content='SER RECARGADAS DE 0ºC A 40ºC TEMPERATURA DE ALMACENAJE -4°F A 122°F O -20°C A 50°C. ENTRADA DEL ADAPTADOR/CARGADOR 120-240VCA 50/60HZ 0.2A SALIDA DEL ADAPTADOR CARGADOR 6VCC 0.5A\\n\\nDatos Adicionales\\n\\nEl número de serie de este producto puede ser encontrado en la placa de registro debajo de la bascula. Le sugerimos que escriba este número y el modelo correspondiente en los siguientes espacios y tenerlos como una prueba de su adquisición y para la ayuda de identificación en caso de pérdida o futuras consultas.\\n\\nDistribuidor _ _ _ _ _ _ Dirección _ _ _ _ _ _ Teléfono _ _ _ _ _ _ Fecha de la compra _ _ _ _ _ _ _ Modelo de la báscula _ _ _ _ _ _ Número de serie _ _ _ _ _ ____ _\\n\\nNos reservamos el derecho de cambiar cualquier especificación contenida en este texto sin previo aviso.\\n\\nBÁSCULA\\n\\nELECTRÓNICA www.torrey.net')]"
      ]
     },
     "execution_count": 8,
     "metadata": {},
     "output_type": "execute_result"
    }
   ],
   "source": [
    "from langchain_community.document_loaders import UnstructuredMarkdownLoader\n",
    "\n",
    "markdown_path = \"docs/manual-lpcr/manual-lpcr.md\" \n",
    "md_loader = UnstructuredMarkdownLoader(markdown_path)\n",
    "\n",
    "md_pages = md_loader.load_and_split()\n",
    "md_pages "
   ]
  },
  {
   "cell_type": "code",
   "execution_count": 9,
   "metadata": {},
   "outputs": [],
   "source": [
    "from langchain_community.vectorstores import DocArrayInMemorySearch\n",
    "\n",
    "vectorstore = DocArrayInMemorySearch.from_documents(\n",
    "    md_pages, \n",
    "    embedding=embeddings\n",
    "    )\n",
    "\n",
    "# Instantiate a retriever\n",
    "retriever = vectorstore.as_retriever()"
   ]
  },
  {
   "cell_type": "code",
   "execution_count": 10,
   "metadata": {},
   "outputs": [],
   "source": [
    "md_chain = (\n",
    "    {\n",
    "        \"context\": retriever,\n",
    "        \"question\": RunnablePassthrough()\n",
    "}\n",
    "| prompt\n",
    "| model\n",
    ")"
   ]
  },
  {
   "cell_type": "code",
   "execution_count": 11,
   "metadata": {},
   "outputs": [
    {
     "name": "stdout",
     "output_type": "stream",
     "text": [
      "Pregunta: Como peso un producto?\n",
      "Respuesta: La respuesta a esta pregunta es:\n",
      "\n",
      "\"Para usar la báscula, primero asegúrate de que esté en buenas condiciones y nivelada. Conecta el adaptador CA/CC si lo utilizas y enciende la bascula. Luego, coloca el producto sobre el plato de la báscula y asegúrate de que no esté maltratado o golpeado durante el transporte. Si la bascula muestra 'HELP', puede ser debido a un daño irreversible causado por el transporte y debes dirigirte al distribuidor autorizado. Luego, simplemente lee la cantidad en el visor/pantalla para obtener el peso del producto.\"\n",
      "\n",
      "Nota: Esta respuesta se basa en el texto proporcionado en el manual de instrucciones de la báscula electrónica.\n",
      "\n",
      "Pregunta: Como se introduce el precio por kilogramo?\n",
      "Respuesta: La respuesta es mediante la tecla \"+\" de la báscula, donde se selecciona \"Precio Max/ kg\" y luego se ingresa el monto máximo permitido.\n",
      "\n",
      "Pregunta: Como puedo borrar la venta total?\n",
      "Respuesta: La respuesta a la pregunta es:\n",
      "\n",
      "\"Presione la tecla NC por 2 segundos.\"\n",
      "\n"
     ]
    }
   ],
   "source": [
    "questions = [\n",
    "    \"Como peso un producto?\",\n",
    "    \"Como se introduce el precio por kilogramo?\",\n",
    "    \"Como puedo borrar la venta total?\",\n",
    "]\n",
    "\n",
    "for question in questions:\n",
    "    print(f\"Pregunta: {question}\")\n",
    "    print(f\"Respuesta: {md_chain.invoke({'question': question})}\")\n",
    "    print()"
   ]
  },
  {
   "cell_type": "markdown",
   "metadata": {},
   "source": [
    "## Modelo: GPT-4o\n",
    "---"
   ]
  }
 ],
 "metadata": {
  "kernelspec": {
   "display_name": ".venv",
   "language": "python",
   "name": "python3"
  },
  "language_info": {
   "codemirror_mode": {
    "name": "ipython",
    "version": 3
   },
   "file_extension": ".py",
   "mimetype": "text/x-python",
   "name": "python",
   "nbconvert_exporter": "python",
   "pygments_lexer": "ipython3",
   "version": "3.10.1"
  }
 },
 "nbformat": 4,
 "nbformat_minor": 2
}
